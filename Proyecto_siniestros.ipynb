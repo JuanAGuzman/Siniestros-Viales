{
  "cells": [
    {
      "cell_type": "markdown",
      "metadata": {
        "id": "fmN9IszbuOkh"
      },
      "source": [
        "# Proyecto: Siniestro viales"
      ]
    },
    {
      "cell_type": "markdown",
      "metadata": {
        "id": "gS0Z5we2uOkp"
      },
      "source": [
        "La empresa bogotana de seguros SSeguro esta buscando identificar las causas de accidentalidad en las vias de Bogota, con el objetivo de tomar decisiones de mercadotecnia para reducir costos. Para esto se usaran datos de los siniestros registrados en bogota entre el año 2015 y 2020 y se hara un procesamiento de estos datos para su posterior analisis."
      ]
    },
    {
      "cell_type": "markdown",
      "metadata": {
        "id": "piYcqDSduOkq"
      },
      "source": [
        "## Entendimiento del negocio"
      ]
    },
    {
      "cell_type": "markdown",
      "metadata": {},
      "source": [
        "### Valoracion del negocio"
      ]
    },
    {
      "cell_type": "markdown",
      "metadata": {},
      "source": [
        "El negocio no cuenta con información satisfactoria del comportamiento de sus clientes, es por esto que las inversiones en mercadotecnia se destinan a un publico general, por lo tanto, existe el interés de llevar a cabo una investigación que concluya con evidencia estadística sobre la  información relevante de las diferentes características  que involucran datos pertinentes de los  clientes que permita reforzar al negocio en puntos débiles que requieren una mejor atención para  obtener un ahorro de los  recursos económicos del negocio  y  a su vez ofrecer un mejor servicio. Es decir, los ingresos y egresos del negocio actual pueden ser potenciados identificando los factores que influyen en costos para el negocio."
      ]
    },
    {
      "cell_type": "markdown",
      "metadata": {
        "id": "nfjdm7OtuOkr"
      },
      "source": [
        "### Objetivos de la empresa"
      ]
    },
    {
      "cell_type": "markdown",
      "metadata": {
        "id": "sp1Bu-0LuOks"
      },
      "source": [
        "En general, La empresa busca identificar multiples relaciones con respecto a los siniestros ocurridos en Bogota. Estas relaciones son de utilidad para identificar como distribuir los publicos objetivos, es decir, identificar que tipos de seguros son mas aptos para que tipos de vehiculos y personas. Especificamente se busca contestar a las siguientes interrogantes para determinar que desiciones tomar para mejorar la rentabilidad del negocio."
      ]
    },
    {
      "cell_type": "markdown",
      "metadata": {
        "id": "LNasrOZiuOkt"
      },
      "source": [
        "- ¿Que clase de vehiculos presentan mayor accidentalidad?\n",
        "\n",
        "- ¿Como se comportan los accidentes en el tiempo?\n",
        "\n",
        "- ¿Que tipo de servicio y "
      ]
    },
    {
      "cell_type": "markdown",
      "metadata": {
        "id": "XUfH1B6OuOkt"
      },
      "source": [
        "### Metas del proyecto"
      ]
    },
    {
      "cell_type": "markdown",
      "metadata": {},
      "source": [
        "En general, este proyecto es un primer estudio a todo lo que se busca por parte de la empresa, por lo tanto, inicialmente se quiere modelar el comportamiento de los accidentes a traves del tiempo. Despues, se tiene como objetivo poder encontrar si existe una correlación entre algunas variables, en especifico el sexo de los involucrados y el servicio del transporte (público o privado) contra la gravedad del siniestro. Es por esto que se busca contestar a las preguntas asociadas asociadas a variables categoricas de maximo 3 valores diferentes. Esto se logra realizando lo siguiente:\n",
        "\n",
        "- Caracterizacion de la tasa de accidentalidad en el tiempo, dicha tasa estara asociada a la distribuccion de Possion que modela la probabilidad de ocurrencia de siniestros.\n",
        "- Test de $\\chi^2$ y correlacion tetracorica para las variables de gravedad y sexo de los siniestros.\n",
        "- Test de $\\chi^2$ y correlacion tetracorica para las variables de gravedad y servicio publico o privado de los siniestros."
      ]
    },
    {
      "cell_type": "markdown",
      "metadata": {},
      "source": [
        "### Planeacion"
      ]
    },
    {
      "cell_type": "markdown",
      "metadata": {},
      "source": [
        "La empresa nos dio acceso a una base de datos crudos, el primer paso a seguir es el analisis exploratorio de los datos, es decir, entender las caracteristicas datos entregados a traves de su visualizacion en crudo y en graficas. Habiendo entendido los datos se procede a prepararlos para el analisis estadistico, es decir, se hace una limpieza de los datos y se hace una seleccion de los datos necesarios. Finalmente, se hace el analisis estadistico dirigido a responder las preguntar planteadas por la empresa."
      ]
    },
    {
      "cell_type": "markdown",
      "metadata": {
        "id": "NOANcUXtuOku"
      },
      "source": [
        "## Entendimiento de los datos"
      ]
    },
    {
      "cell_type": "markdown",
      "metadata": {},
      "source": [
        "La empresa entrego un excel con 5 hojas denominadas **SINIESTROS**, **ACTOR_VIAL**, **VEHICULO**, **HIPOTESIS** y **DICCIONARIO**, cada una contiene informacion diferente sobre los siniestros y la hoja **DICCIONARIO** consiste de un listado de codigos para entender la informacion dada en las otras hojas.\n",
        "El archivo dado es tiene un peso de 48.6 MB, por lo tanto importar esta informacion a pandas a traves de la funcion *read_excel* toma un tiempo extenso. Para reducir tiempos, se guardo individualmente cada hoja en formato csv, el cual permite una rapida importacion de los datos."
      ]
    },
    {
      "cell_type": "markdown",
      "metadata": {},
      "source": [
        "### Adquisicion de los datos"
      ]
    },
    {
      "cell_type": "markdown",
      "metadata": {
        "id": "nEs2IqGHuOkv"
      },
      "source": [
        "Empezamos importando las diferentes librerias a usar para manejar los datos"
      ]
    },
    {
      "cell_type": "code",
      "execution_count": 1,
      "metadata": {
        "id": "d4swX49juOkw"
      },
      "outputs": [],
      "source": [
        "import pandas as pd\n",
        "import numpy as np\n",
        "import os"
      ]
    },
    {
      "cell_type": "markdown",
      "metadata": {
        "id": "zuZHraL1uOk0"
      },
      "source": [
        "Importamos los datos brindados por la empresa haciendo uso de la funcion *read_csv* que trae pandas, los datos seran almacenados en un diccionario para facilidad de manejo."
      ]
    },
    {
      "cell_type": "code",
      "execution_count": 2,
      "metadata": {
        "id": "--hB7l7wuOk1"
      },
      "outputs": [],
      "source": [
        "nombres = ['sin', 'actor', 'veh', 'hip']\n",
        "df_ = {nombres[i]:pd.read_csv('siniestros_viales_'+str(i+1)+'.csv', sep=';') for i in range(len(nombres))}\n",
        "Diccionario = pd.read_csv('diccionario.csv', sep=';')"
      ]
    },
    {
      "cell_type": "markdown",
      "metadata": {},
      "source": [
        "Observamos el contenido de los dataframes"
      ]
    },
    {
      "cell_type": "code",
      "execution_count": 3,
      "metadata": {
        "colab": {
          "base_uri": "https://localhost:8080/",
          "height": 206
        },
        "id": "sWKB_mtnuOk1",
        "outputId": "5f526934-9ce1-4213-f9d8-1a9291044d46"
      },
      "outputs": [
        {
          "data": {
            "text/html": [
              "<div>\n",
              "<style scoped>\n",
              "    .dataframe tbody tr th:only-of-type {\n",
              "        vertical-align: middle;\n",
              "    }\n",
              "\n",
              "    .dataframe tbody tr th {\n",
              "        vertical-align: top;\n",
              "    }\n",
              "\n",
              "    .dataframe thead th {\n",
              "        text-align: right;\n",
              "    }\n",
              "</style>\n",
              "<table border=\"1\" class=\"dataframe\">\n",
              "  <thead>\n",
              "    <tr style=\"text-align: right;\">\n",
              "      <th></th>\n",
              "      <th>CODIGO_ACCIDENTE</th>\n",
              "      <th>FECHA</th>\n",
              "      <th>HORA</th>\n",
              "      <th>GRAVEDAD</th>\n",
              "      <th>CLASE</th>\n",
              "      <th>CHOQUE</th>\n",
              "      <th>OBJETO_FIJO</th>\n",
              "      <th>DIRECCION</th>\n",
              "      <th>CODIGO_LOCALIDAD</th>\n",
              "      <th>DISENO_LUGAR</th>\n",
              "    </tr>\n",
              "  </thead>\n",
              "  <tbody>\n",
              "    <tr>\n",
              "      <th>0</th>\n",
              "      <td>4401419</td>\n",
              "      <td>02/01/2015</td>\n",
              "      <td>13:00:00</td>\n",
              "      <td>2</td>\n",
              "      <td>4</td>\n",
              "      <td>NaN</td>\n",
              "      <td>NaN</td>\n",
              "      <td>AV AVENIDA BOYACA-CL 49A 76</td>\n",
              "      <td>6</td>\n",
              "      <td>1</td>\n",
              "    </tr>\n",
              "    <tr>\n",
              "      <th>1</th>\n",
              "      <td>4401420</td>\n",
              "      <td>01/01/2015</td>\n",
              "      <td>13:00:00</td>\n",
              "      <td>3</td>\n",
              "      <td>1</td>\n",
              "      <td>1.0</td>\n",
              "      <td>NaN</td>\n",
              "      <td>KR 17A-CL 63B 02</td>\n",
              "      <td>19</td>\n",
              "      <td>1</td>\n",
              "    </tr>\n",
              "  </tbody>\n",
              "</table>\n",
              "</div>"
            ],
            "text/plain": [
              "   CODIGO_ACCIDENTE       FECHA      HORA  GRAVEDAD  CLASE  CHOQUE  \\\n",
              "0           4401419  02/01/2015  13:00:00         2      4     NaN   \n",
              "1           4401420  01/01/2015  13:00:00         3      1     1.0   \n",
              "\n",
              "   OBJETO_FIJO                    DIRECCION  CODIGO_LOCALIDAD  DISENO_LUGAR  \n",
              "0          NaN  AV AVENIDA BOYACA-CL 49A 76                 6             1  \n",
              "1          NaN             KR 17A-CL 63B 02                19             1  "
            ]
          },
          "metadata": {},
          "output_type": "display_data"
        },
        {
          "data": {
            "text/html": [
              "<div>\n",
              "<style scoped>\n",
              "    .dataframe tbody tr th:only-of-type {\n",
              "        vertical-align: middle;\n",
              "    }\n",
              "\n",
              "    .dataframe tbody tr th {\n",
              "        vertical-align: top;\n",
              "    }\n",
              "\n",
              "    .dataframe thead th {\n",
              "        text-align: right;\n",
              "    }\n",
              "</style>\n",
              "<table border=\"1\" class=\"dataframe\">\n",
              "  <thead>\n",
              "    <tr style=\"text-align: right;\">\n",
              "      <th></th>\n",
              "      <th>CODIGO_ACCIDENTE</th>\n",
              "      <th>CODIGO_ACCIDENTADO</th>\n",
              "      <th>FECHA</th>\n",
              "      <th>CONDICION</th>\n",
              "      <th>ESTADO</th>\n",
              "      <th>EDAD</th>\n",
              "      <th>SEXO</th>\n",
              "      <th>VEHICULO</th>\n",
              "    </tr>\n",
              "  </thead>\n",
              "  <tbody>\n",
              "    <tr>\n",
              "      <th>0</th>\n",
              "      <td>4401419</td>\n",
              "      <td>2452497</td>\n",
              "      <td>02/01/2015</td>\n",
              "      <td>CONDUCTOR</td>\n",
              "      <td>ILESO</td>\n",
              "      <td>53</td>\n",
              "      <td>MASCULINO</td>\n",
              "      <td>4401419-1</td>\n",
              "    </tr>\n",
              "    <tr>\n",
              "      <th>1</th>\n",
              "      <td>4401419</td>\n",
              "      <td>2452499</td>\n",
              "      <td>02/01/2015</td>\n",
              "      <td>PASAJERO/ACOMPAÑANTE</td>\n",
              "      <td>HERIDO</td>\n",
              "      <td>36</td>\n",
              "      <td>FEMENINO</td>\n",
              "      <td>4401419-1</td>\n",
              "    </tr>\n",
              "  </tbody>\n",
              "</table>\n",
              "</div>"
            ],
            "text/plain": [
              "   CODIGO_ACCIDENTE  CODIGO_ACCIDENTADO       FECHA             CONDICION  \\\n",
              "0           4401419             2452497  02/01/2015             CONDUCTOR   \n",
              "1           4401419             2452499  02/01/2015  PASAJERO/ACOMPAÑANTE   \n",
              "\n",
              "   ESTADO EDAD       SEXO   VEHICULO  \n",
              "0   ILESO   53  MASCULINO  4401419-1  \n",
              "1  HERIDO   36   FEMENINO  4401419-1  "
            ]
          },
          "metadata": {},
          "output_type": "display_data"
        },
        {
          "data": {
            "text/html": [
              "<div>\n",
              "<style scoped>\n",
              "    .dataframe tbody tr th:only-of-type {\n",
              "        vertical-align: middle;\n",
              "    }\n",
              "\n",
              "    .dataframe tbody tr th {\n",
              "        vertical-align: top;\n",
              "    }\n",
              "\n",
              "    .dataframe thead th {\n",
              "        text-align: right;\n",
              "    }\n",
              "</style>\n",
              "<table border=\"1\" class=\"dataframe\">\n",
              "  <thead>\n",
              "    <tr style=\"text-align: right;\">\n",
              "      <th></th>\n",
              "      <th>CODIGO_ACCIDENTE</th>\n",
              "      <th>FECHA</th>\n",
              "      <th>VEHICULO</th>\n",
              "      <th>CLASE</th>\n",
              "      <th>SERVICIO</th>\n",
              "      <th>MODALIDAD</th>\n",
              "      <th>ENFUGA</th>\n",
              "    </tr>\n",
              "  </thead>\n",
              "  <tbody>\n",
              "    <tr>\n",
              "      <th>0</th>\n",
              "      <td>4401419</td>\n",
              "      <td>02/01/2015</td>\n",
              "      <td>4401419-1</td>\n",
              "      <td>2.0</td>\n",
              "      <td>2.0</td>\n",
              "      <td>10.0</td>\n",
              "      <td>N</td>\n",
              "    </tr>\n",
              "    <tr>\n",
              "      <th>1</th>\n",
              "      <td>4401420</td>\n",
              "      <td>01/01/2015</td>\n",
              "      <td>4401420-1</td>\n",
              "      <td>1.0</td>\n",
              "      <td>2.0</td>\n",
              "      <td>5.0</td>\n",
              "      <td>N</td>\n",
              "    </tr>\n",
              "  </tbody>\n",
              "</table>\n",
              "</div>"
            ],
            "text/plain": [
              "   CODIGO_ACCIDENTE       FECHA   VEHICULO  CLASE  SERVICIO  MODALIDAD ENFUGA\n",
              "0           4401419  02/01/2015  4401419-1    2.0       2.0       10.0      N\n",
              "1           4401420  01/01/2015  4401420-1    1.0       2.0        5.0      N"
            ]
          },
          "metadata": {},
          "output_type": "display_data"
        },
        {
          "data": {
            "text/html": [
              "<div>\n",
              "<style scoped>\n",
              "    .dataframe tbody tr th:only-of-type {\n",
              "        vertical-align: middle;\n",
              "    }\n",
              "\n",
              "    .dataframe tbody tr th {\n",
              "        vertical-align: top;\n",
              "    }\n",
              "\n",
              "    .dataframe thead th {\n",
              "        text-align: right;\n",
              "    }\n",
              "</style>\n",
              "<table border=\"1\" class=\"dataframe\">\n",
              "  <thead>\n",
              "    <tr style=\"text-align: right;\">\n",
              "      <th></th>\n",
              "      <th>CODIGO_ACCIDENTE</th>\n",
              "      <th>FECHA</th>\n",
              "      <th>CODIGO_CAUSA</th>\n",
              "    </tr>\n",
              "  </thead>\n",
              "  <tbody>\n",
              "    <tr>\n",
              "      <th>0</th>\n",
              "      <td>4401419</td>\n",
              "      <td>02/01/2015</td>\n",
              "      <td>119</td>\n",
              "    </tr>\n",
              "    <tr>\n",
              "      <th>1</th>\n",
              "      <td>4401420</td>\n",
              "      <td>01/01/2015</td>\n",
              "      <td>103</td>\n",
              "    </tr>\n",
              "  </tbody>\n",
              "</table>\n",
              "</div>"
            ],
            "text/plain": [
              "   CODIGO_ACCIDENTE       FECHA CODIGO_CAUSA\n",
              "0           4401419  02/01/2015          119\n",
              "1           4401420  01/01/2015          103"
            ]
          },
          "metadata": {},
          "output_type": "display_data"
        }
      ],
      "source": [
        "display(df_['sin'].head(2))\n",
        "display(df_['actor'].head(2))\n",
        "display(df_['veh'].head(2))\n",
        "display(df_['hip'].head(2))"
      ]
    },
    {
      "cell_type": "markdown",
      "metadata": {
        "id": "tq1SmDmqBC8M"
      },
      "source": [
        "Observamos que los dataframes provenientes de las hojas del excel contienen diferentes variables. La primera hoja **SINIESTROS** del excel genera un dataframe que contiene las siguientes variables:\n",
        "\n",
        "| Variable | Definición\t| Valores |\n",
        "| --- | --- | --- |\n",
        "| CODIGO_ACCIDENTE | Codigo asociado al siniestro. | Valor tipo int. |\n",
        "|FECHA| Dia, mes y año en el que ocurrio el siniestro. | Valor tipo str. |\n",
        "| HORA | Hora, con exactitud de minutos, en la que ocurrio el siniestro. | Valor tipo str. |\n",
        "| GRAVEDAD | Grado de gravedad del siniestro. | 1(Con muertos), 2(Con heridos), 3(Solo daños).|\n",
        "| CLASE | Tipo de siniestro ocurrido.  | 1(Choque), 2(Atropello), 3(Volcamiento), 4(Caida de ocupante), 5(Incendio), 6(Otro), 7(Autolesion). |\n",
        "| CHOQUE | Elementos involucrados en el choque. | 1(Vehiculo), 2(Tren), 3(Semoviente), 4(Objeto fijo).|\n",
        "| OBJETIVO_FIJO | Elemento inmovil contra el que ocurrio el siniestro. | 1(Muro), 2(Poste), 3(Arbol), 4(Barandas), 5(Semaforo), 6(Inmueble), 7(Hidrante), 8(Valla, Señal), 9(Tarima, Caseta), 10(Vehiculo estacionado), 11(Otro).|\n",
        "|DIRECCION| Direccion donde ocurrio el siniestro. | Variable tipo str. |\n",
        "|CODIGO_LOCALIDAD| Codigo asociado a la localidad donde ocurrio el siniestro. | 1(Usaquén), 2(Chapinero), 3(Santa Fe), 4(San Cristóbal), 5(Usme), 6(Tunjuelito), 7(Bosa), 8(Kennedy), 9(Fontibón), 10(Engativá), 11(Suba), 12(Barrios Unidos), 13(Teusaquillo), 14(Los Mártires), 15(Antonio Nariño), 16(Puente Aranda), 17(La Candelaria), 18(Rafael Uribe Uribe), 19(Ciudad Bolivar), 20(Sumapaz).|\n",
        "|DISENO_LUGAR| Tipo de lugar en el que ocurrio el siniestro. | 1(Tramo de via), 2(Intersección), 3(Via peatonal), 4(Paso elevado), 5(Paso inferior), 6(Paso a nivel), 7(Glorieta), 8(Puente), 9(Via troncal), 10(Lote o predio), 11(Cicloruta), 12(Ponton), 13(Tunel).|"
      ]
    },
    {
      "cell_type": "markdown",
      "metadata": {},
      "source": [
        "La segunda hoja **ACTOR_VIAL** del excel, genera el dataframe que contiene las siguientes variables:\n",
        "\n",
        "|Variable|Definición|Valores|\n",
        "|---|---|---|\n",
        "|CODIGO_ACCIDENTE| Codigo asociado al accidente. | Valor tipo int. |\n",
        "|CODIGO_ACCIDENTADO| Codigo asociado al paciente accidentado. | Valor tipo str. |\n",
        "|FECHA|  Dia, mes y año en el que ocurrio el siniestro. | Valor tipo str. |\n",
        "|CONDICION| Clasificacion del tipo de actor que es el individuo en el siniestro. | CONDUCTOR, PASAJERO/ACOMPAÑATE, PEATON, CICLISTA, MOTOCICLISTA. |\n",
        "|ESTADO| Condicion del individuo involucrado en el siniestro. |  HERIDO, ILESO, MUERTO |\n",
        "|EDAD| Edad del individuo. | Variable tipo int. |\n",
        "|SEXO| Sexo del individuo. | MASCULINO, FEMENINO, SIN INFORMACION |\n",
        "|VEHICULO| Codigo asociado al vehiculo en el que se encontraba el vehiculo. | Variable tipo str, vacio si no se encontraba dentro de un vehiculo. |"
      ]
    },
    {
      "cell_type": "markdown",
      "metadata": {},
      "source": [
        "La tercer hoja **VEHICULOS** del excel, produce un dataframe con las siguientes variables:\n",
        "\n",
        "|Variable|Definición|Valores|\n",
        "|---|---|---|\n",
        "|CODIGO_ACCIDENTE| Codigo asociado al accidente. | Valor tipo int. |\n",
        "|FECHA| Dia, mes y año en el que ocurrio el siniestro. | Valor tipo str. |\n",
        "|VEHICULO| Codigo del vehiculo involucrado en el siniestro. | Valor tipo str. |\n",
        "|CLASE| Tipo de vehiculo involucrado en el accidente. | 1(Automovil), 2(Bus), 3(Buseta), 4(Camion, Furgon), 5(Camioneta), 6(Campero), 7(Microbus), 8(Tractocamion), 9(Volqueta), 10(Motocicleta), 11(Maquina Agricola), 12(Maquina Industrial), 13(Bicicleta), 14(Motocarro), 15(Traccion animal), 16(Otro), 17(Motociclo), 18(No identificado), 19(Bus Articulado), 20(Bus Alimentador), 21(Tren), 22(Ambulancia), 23(Metro), 24(Cuatrimoto), 25(Remolque), 26(Semi-Remolque), 27(Bus Bi-Articulado).|\n",
        "|SERVICIO| Tipo de servicio prestado por el vehiculo involucrado. |0(Sin informacion), 1(Oficial), 2(Publico), 3(Particular), 4(Diplomatico).|\n",
        "|MODALIDAD| Modalidad de carga/pasajeros presentes en el vehiculo. |1(Mixto), 2(Carga - Extrapesada), 3(Carga - Extradimensionada), 4(Pasajeros - Colectivo), 5(Pasajeros - Individual), 6(Pasajeros - Especial escolar), 7(Pasajeros - Especial turismo), 8(Pasajeros - Especial asalariado), 9(Pasajeros - Especial Ocasional), 10(Pasajeros - Masivo), 11(Carga - Pesada), 12(Carga - Mercancia Peligrosa).|\n",
        "|ENFUGA| El vehiculo se encuentra en fuga del siniestro. | N(No), S(Si)|"
      ]
    },
    {
      "cell_type": "markdown",
      "metadata": {},
      "source": [
        "La cuarta hoja **HIPOTESIS** del excel contiene las siguientes variables:\n",
        "\n",
        "|Variable|Definición|Valores|\n",
        "|---|---|---|\n",
        "|CODIGO_ACCIDENTE| Codigo asociado al accidente. | Valor tipo int.|\n",
        "|FECHA| Dia, mes y año en el que ocurrio el siniestro. | Valor tipo str. |\n",
        "|CODIGO_CAUSA| Codigo asociado a la hipotesis de la causa del sinietro. | Valor tipo int. |"
      ]
    },
    {
      "cell_type": "markdown",
      "metadata": {},
      "source": [
        "Finalmente, la ultima hoja **DICCIONARIO** contiene un diccionario que permite entender los codigos presentados en las hojas anteriores, por lo tanto el dataframe importado contiene lo siguiente:\n",
        "\n",
        "|Variable|Definición|Valores|\n",
        "|---|---|---|\n",
        "|HOJA| Hoja a la que esta asociado el codigo. |SINIESTROS, ACTOR_VIAL, VEHICULOS, HIPOTESIS|\n",
        "|CAMPO| Variable de la hoja a la que se encuentra asociada el codigo. |GRAVEDAD, CLASE, CHOQUE, OBJETO_FIJO, CODIGO_LOCALIDAD, DISENO_LUGAR, SERVICIO, MODALIDAD, CODIGO_CAUSA|\n",
        "|CODIGO|Numero dado para el campo a describir. |Valor tipo int.|\n",
        "|DESCRIPCION| Interpretacion del codigo dado en el respectivo campo. |Valor tipo str.|"
      ]
    },
    {
      "cell_type": "markdown",
      "metadata": {},
      "source": [
        "Continuando con el entendimiento de los datos, cabe notar que el dataframe con lo siniestros contiene un listado de los siniestros, identificando cada uno con un unico codigo de accidente. Lo interesante es que para un siniestro podemos encontrar multiples actores viales y vehiculos, es por esto que en los dataframes de actores viales y vehiculos cuentan con datos que repiten el codigo de accidente. Un ejemplo de esto lo encontramos asociado al codigo de accidente ***4401436***, para el cual tenemos los siguientes datos del siniestro, los actores viales y los vehiculos involucrados respectivamente:"
      ]
    },
    {
      "cell_type": "code",
      "execution_count": 4,
      "metadata": {},
      "outputs": [
        {
          "data": {
            "text/html": [
              "<div>\n",
              "<style scoped>\n",
              "    .dataframe tbody tr th:only-of-type {\n",
              "        vertical-align: middle;\n",
              "    }\n",
              "\n",
              "    .dataframe tbody tr th {\n",
              "        vertical-align: top;\n",
              "    }\n",
              "\n",
              "    .dataframe thead th {\n",
              "        text-align: right;\n",
              "    }\n",
              "</style>\n",
              "<table border=\"1\" class=\"dataframe\">\n",
              "  <thead>\n",
              "    <tr style=\"text-align: right;\">\n",
              "      <th></th>\n",
              "      <th>CODIGO_ACCIDENTE</th>\n",
              "      <th>FECHA</th>\n",
              "      <th>HORA</th>\n",
              "      <th>GRAVEDAD</th>\n",
              "      <th>CLASE</th>\n",
              "      <th>CHOQUE</th>\n",
              "      <th>OBJETO_FIJO</th>\n",
              "      <th>DIRECCION</th>\n",
              "      <th>CODIGO_LOCALIDAD</th>\n",
              "      <th>DISENO_LUGAR</th>\n",
              "    </tr>\n",
              "  </thead>\n",
              "  <tbody>\n",
              "    <tr>\n",
              "      <th>17</th>\n",
              "      <td>4401436</td>\n",
              "      <td>02/01/2015</td>\n",
              "      <td>11:00:00</td>\n",
              "      <td>2</td>\n",
              "      <td>1</td>\n",
              "      <td>1.0</td>\n",
              "      <td>NaN</td>\n",
              "      <td>CL 68B-KR 72A 02</td>\n",
              "      <td>10</td>\n",
              "      <td>1</td>\n",
              "    </tr>\n",
              "  </tbody>\n",
              "</table>\n",
              "</div>"
            ],
            "text/plain": [
              "    CODIGO_ACCIDENTE       FECHA      HORA  GRAVEDAD  CLASE  CHOQUE  \\\n",
              "17           4401436  02/01/2015  11:00:00         2      1     1.0   \n",
              "\n",
              "    OBJETO_FIJO         DIRECCION  CODIGO_LOCALIDAD  DISENO_LUGAR  \n",
              "17          NaN  CL 68B-KR 72A 02                10             1  "
            ]
          },
          "metadata": {},
          "output_type": "display_data"
        },
        {
          "data": {
            "text/html": [
              "<div>\n",
              "<style scoped>\n",
              "    .dataframe tbody tr th:only-of-type {\n",
              "        vertical-align: middle;\n",
              "    }\n",
              "\n",
              "    .dataframe tbody tr th {\n",
              "        vertical-align: top;\n",
              "    }\n",
              "\n",
              "    .dataframe thead th {\n",
              "        text-align: right;\n",
              "    }\n",
              "</style>\n",
              "<table border=\"1\" class=\"dataframe\">\n",
              "  <thead>\n",
              "    <tr style=\"text-align: right;\">\n",
              "      <th></th>\n",
              "      <th>CODIGO_ACCIDENTE</th>\n",
              "      <th>CODIGO_ACCIDENTADO</th>\n",
              "      <th>FECHA</th>\n",
              "      <th>CONDICION</th>\n",
              "      <th>ESTADO</th>\n",
              "      <th>EDAD</th>\n",
              "      <th>SEXO</th>\n",
              "      <th>VEHICULO</th>\n",
              "    </tr>\n",
              "  </thead>\n",
              "  <tbody>\n",
              "    <tr>\n",
              "      <th>39</th>\n",
              "      <td>4401436</td>\n",
              "      <td>2452538</td>\n",
              "      <td>02/01/2015</td>\n",
              "      <td>CONDUCTOR</td>\n",
              "      <td>ILESO</td>\n",
              "      <td>33</td>\n",
              "      <td>FEMENINO</td>\n",
              "      <td>4401436-1</td>\n",
              "    </tr>\n",
              "    <tr>\n",
              "      <th>40</th>\n",
              "      <td>4401436</td>\n",
              "      <td>2452539</td>\n",
              "      <td>02/01/2015</td>\n",
              "      <td>CONDUCTOR</td>\n",
              "      <td>HERIDO</td>\n",
              "      <td>20</td>\n",
              "      <td>MASCULINO</td>\n",
              "      <td>4401436-2</td>\n",
              "    </tr>\n",
              "    <tr>\n",
              "      <th>41</th>\n",
              "      <td>4401436</td>\n",
              "      <td>2452541</td>\n",
              "      <td>02/01/2015</td>\n",
              "      <td>PASAJERO/ACOMPAÑANTE</td>\n",
              "      <td>HERIDO</td>\n",
              "      <td>39</td>\n",
              "      <td>FEMENINO</td>\n",
              "      <td>4401436-1</td>\n",
              "    </tr>\n",
              "    <tr>\n",
              "      <th>42</th>\n",
              "      <td>4401436</td>\n",
              "      <td>2452542</td>\n",
              "      <td>02/01/2015</td>\n",
              "      <td>PASAJERO/ACOMPAÑANTE</td>\n",
              "      <td>HERIDO</td>\n",
              "      <td>63</td>\n",
              "      <td>MASCULINO</td>\n",
              "      <td>4401436-1</td>\n",
              "    </tr>\n",
              "    <tr>\n",
              "      <th>43</th>\n",
              "      <td>4401436</td>\n",
              "      <td>2452543</td>\n",
              "      <td>02/01/2015</td>\n",
              "      <td>PASAJERO/ACOMPAÑANTE</td>\n",
              "      <td>HERIDO</td>\n",
              "      <td>35</td>\n",
              "      <td>FEMENINO</td>\n",
              "      <td>4401436-1</td>\n",
              "    </tr>\n",
              "    <tr>\n",
              "      <th>44</th>\n",
              "      <td>4401436</td>\n",
              "      <td>2452544</td>\n",
              "      <td>02/01/2015</td>\n",
              "      <td>PASAJERO/ACOMPAÑANTE</td>\n",
              "      <td>HERIDO</td>\n",
              "      <td>43</td>\n",
              "      <td>MASCULINO</td>\n",
              "      <td>4401436-1</td>\n",
              "    </tr>\n",
              "  </tbody>\n",
              "</table>\n",
              "</div>"
            ],
            "text/plain": [
              "    CODIGO_ACCIDENTE  CODIGO_ACCIDENTADO       FECHA             CONDICION  \\\n",
              "39           4401436             2452538  02/01/2015             CONDUCTOR   \n",
              "40           4401436             2452539  02/01/2015             CONDUCTOR   \n",
              "41           4401436             2452541  02/01/2015  PASAJERO/ACOMPAÑANTE   \n",
              "42           4401436             2452542  02/01/2015  PASAJERO/ACOMPAÑANTE   \n",
              "43           4401436             2452543  02/01/2015  PASAJERO/ACOMPAÑANTE   \n",
              "44           4401436             2452544  02/01/2015  PASAJERO/ACOMPAÑANTE   \n",
              "\n",
              "    ESTADO EDAD       SEXO   VEHICULO  \n",
              "39   ILESO   33   FEMENINO  4401436-1  \n",
              "40  HERIDO   20  MASCULINO  4401436-2  \n",
              "41  HERIDO   39   FEMENINO  4401436-1  \n",
              "42  HERIDO   63  MASCULINO  4401436-1  \n",
              "43  HERIDO   35   FEMENINO  4401436-1  \n",
              "44  HERIDO   43  MASCULINO  4401436-1  "
            ]
          },
          "metadata": {},
          "output_type": "display_data"
        },
        {
          "data": {
            "text/html": [
              "<div>\n",
              "<style scoped>\n",
              "    .dataframe tbody tr th:only-of-type {\n",
              "        vertical-align: middle;\n",
              "    }\n",
              "\n",
              "    .dataframe tbody tr th {\n",
              "        vertical-align: top;\n",
              "    }\n",
              "\n",
              "    .dataframe thead th {\n",
              "        text-align: right;\n",
              "    }\n",
              "</style>\n",
              "<table border=\"1\" class=\"dataframe\">\n",
              "  <thead>\n",
              "    <tr style=\"text-align: right;\">\n",
              "      <th></th>\n",
              "      <th>CODIGO_ACCIDENTE</th>\n",
              "      <th>FECHA</th>\n",
              "      <th>VEHICULO</th>\n",
              "      <th>CLASE</th>\n",
              "      <th>SERVICIO</th>\n",
              "      <th>MODALIDAD</th>\n",
              "      <th>ENFUGA</th>\n",
              "    </tr>\n",
              "  </thead>\n",
              "  <tbody>\n",
              "    <tr>\n",
              "      <th>30</th>\n",
              "      <td>4401436</td>\n",
              "      <td>02/01/2015</td>\n",
              "      <td>4401436-1</td>\n",
              "      <td>2.0</td>\n",
              "      <td>2.0</td>\n",
              "      <td>10.0</td>\n",
              "      <td>N</td>\n",
              "    </tr>\n",
              "    <tr>\n",
              "      <th>31</th>\n",
              "      <td>4401436</td>\n",
              "      <td>02/01/2015</td>\n",
              "      <td>4401436-2</td>\n",
              "      <td>4.0</td>\n",
              "      <td>2.0</td>\n",
              "      <td>11.0</td>\n",
              "      <td>N</td>\n",
              "    </tr>\n",
              "  </tbody>\n",
              "</table>\n",
              "</div>"
            ],
            "text/plain": [
              "    CODIGO_ACCIDENTE       FECHA   VEHICULO  CLASE  SERVICIO  MODALIDAD ENFUGA\n",
              "30           4401436  02/01/2015  4401436-1    2.0       2.0       10.0      N\n",
              "31           4401436  02/01/2015  4401436-2    4.0       2.0       11.0      N"
            ]
          },
          "metadata": {},
          "output_type": "display_data"
        }
      ],
      "source": [
        "display(df_['sin'][df_['sin'].CODIGO_ACCIDENTE==4401436])\n",
        "display(df_['actor'][df_['actor'].CODIGO_ACCIDENTE==4401436])\n",
        "display(df_['veh'][df_['veh'].CODIGO_ACCIDENTE==4401436])"
      ]
    },
    {
      "cell_type": "markdown",
      "metadata": {},
      "source": [
        "Esta observacion va a ser de suma importancia para la preparacion de los datos."
      ]
    },
    {
      "cell_type": "markdown",
      "metadata": {},
      "source": [
        "## Preparacion de los datos"
      ]
    },
    {
      "cell_type": "markdown",
      "metadata": {},
      "source": [
        "De los datos, lo primero que notamos es que dos variables (**CLASE**), con diferentes definiciones, coinciden en nombre para diferentes dataframes, por lo tanto es necesario renombrar dichas variables:"
      ]
    },
    {
      "cell_type": "code",
      "execution_count": 5,
      "metadata": {},
      "outputs": [],
      "source": [
        "df_['sin'] = df_['sin'].rename(columns={'CLASE':'CLASE_SINIESTRO'})\n",
        "df_['veh'] = df_['veh'].rename(columns={'CLASE':'CLASE_VEHICULO'})"
      ]
    },
    {
      "cell_type": "markdown",
      "metadata": {},
      "source": [
        "Posterior a esto, el objetivo principal en esta etapa es generar un unico dataframe que contenga la misma informacion que los anteriores, para esto usamos la funcion *merge* de pandas, almacenando toda la informacion en el dataframe ``` df ```. El merge de los datos se hara de forma *outer* entorno al codigo del accidente, la fecha, y el vehiculo involucrado:"
      ]
    },
    {
      "cell_type": "code",
      "execution_count": 6,
      "metadata": {
        "id": "shwXihGBuOk4"
      },
      "outputs": [],
      "source": [
        "df = pd.merge(df_['sin'], df_['hip'], on=[\"CODIGO_ACCIDENTE\", \"FECHA\"], how=\"outer\")\n",
        "df = pd.merge(df, df_['veh'], on=[\"CODIGO_ACCIDENTE\", \"FECHA\"], how=\"outer\")\n",
        "df = pd.merge(df, df_['actor'], on=[\"CODIGO_ACCIDENTE\", \"VEHICULO\", \"FECHA\"], how=\"outer\")"
      ]
    },
    {
      "cell_type": "markdown",
      "metadata": {},
      "source": [
        "Veamos informacion sobre el nuevo dataframe creado"
      ]
    },
    {
      "cell_type": "code",
      "execution_count": 7,
      "metadata": {
        "colab": {
          "base_uri": "https://localhost:8080/"
        },
        "id": "Ghqlr3JeuOk4",
        "outputId": "1bc634ce-27ed-463d-f446-fe2cf42754ca"
      },
      "outputs": [
        {
          "data": {
            "text/html": [
              "<div>\n",
              "<style scoped>\n",
              "    .dataframe tbody tr th:only-of-type {\n",
              "        vertical-align: middle;\n",
              "    }\n",
              "\n",
              "    .dataframe tbody tr th {\n",
              "        vertical-align: top;\n",
              "    }\n",
              "\n",
              "    .dataframe thead th {\n",
              "        text-align: right;\n",
              "    }\n",
              "</style>\n",
              "<table border=\"1\" class=\"dataframe\">\n",
              "  <thead>\n",
              "    <tr style=\"text-align: right;\">\n",
              "      <th></th>\n",
              "      <th>CODIGO_ACCIDENTE</th>\n",
              "      <th>FECHA</th>\n",
              "      <th>HORA</th>\n",
              "      <th>GRAVEDAD</th>\n",
              "      <th>CLASE_SINIESTRO</th>\n",
              "      <th>CHOQUE</th>\n",
              "      <th>OBJETO_FIJO</th>\n",
              "      <th>DIRECCION</th>\n",
              "      <th>CODIGO_LOCALIDAD</th>\n",
              "      <th>DISENO_LUGAR</th>\n",
              "      <th>...</th>\n",
              "      <th>VEHICULO</th>\n",
              "      <th>CLASE_VEHICULO</th>\n",
              "      <th>SERVICIO</th>\n",
              "      <th>MODALIDAD</th>\n",
              "      <th>ENFUGA</th>\n",
              "      <th>CODIGO_ACCIDENTADO</th>\n",
              "      <th>CONDICION</th>\n",
              "      <th>ESTADO</th>\n",
              "      <th>EDAD</th>\n",
              "      <th>SEXO</th>\n",
              "    </tr>\n",
              "  </thead>\n",
              "  <tbody>\n",
              "    <tr>\n",
              "      <th>0</th>\n",
              "      <td>4401419</td>\n",
              "      <td>02/01/2015</td>\n",
              "      <td>13:00:00</td>\n",
              "      <td>2.0</td>\n",
              "      <td>4.0</td>\n",
              "      <td>NaN</td>\n",
              "      <td>NaN</td>\n",
              "      <td>AV AVENIDA BOYACA-CL 49A 76</td>\n",
              "      <td>6.0</td>\n",
              "      <td>1.0</td>\n",
              "      <td>...</td>\n",
              "      <td>4401419-1</td>\n",
              "      <td>2.0</td>\n",
              "      <td>2.0</td>\n",
              "      <td>10.0</td>\n",
              "      <td>N</td>\n",
              "      <td>2452497.0</td>\n",
              "      <td>CONDUCTOR</td>\n",
              "      <td>ILESO</td>\n",
              "      <td>53</td>\n",
              "      <td>MASCULINO</td>\n",
              "    </tr>\n",
              "    <tr>\n",
              "      <th>1</th>\n",
              "      <td>4401419</td>\n",
              "      <td>02/01/2015</td>\n",
              "      <td>13:00:00</td>\n",
              "      <td>2.0</td>\n",
              "      <td>4.0</td>\n",
              "      <td>NaN</td>\n",
              "      <td>NaN</td>\n",
              "      <td>AV AVENIDA BOYACA-CL 49A 76</td>\n",
              "      <td>6.0</td>\n",
              "      <td>1.0</td>\n",
              "      <td>...</td>\n",
              "      <td>4401419-1</td>\n",
              "      <td>2.0</td>\n",
              "      <td>2.0</td>\n",
              "      <td>10.0</td>\n",
              "      <td>N</td>\n",
              "      <td>2452499.0</td>\n",
              "      <td>PASAJERO/ACOMPAÑANTE</td>\n",
              "      <td>HERIDO</td>\n",
              "      <td>36</td>\n",
              "      <td>FEMENINO</td>\n",
              "    </tr>\n",
              "    <tr>\n",
              "      <th>2</th>\n",
              "      <td>4401420</td>\n",
              "      <td>01/01/2015</td>\n",
              "      <td>13:00:00</td>\n",
              "      <td>3.0</td>\n",
              "      <td>1.0</td>\n",
              "      <td>1.0</td>\n",
              "      <td>NaN</td>\n",
              "      <td>KR 17A-CL 63B 02</td>\n",
              "      <td>19.0</td>\n",
              "      <td>1.0</td>\n",
              "      <td>...</td>\n",
              "      <td>4401420-1</td>\n",
              "      <td>1.0</td>\n",
              "      <td>2.0</td>\n",
              "      <td>5.0</td>\n",
              "      <td>N</td>\n",
              "      <td>2452504.0</td>\n",
              "      <td>CONDUCTOR</td>\n",
              "      <td>ILESO</td>\n",
              "      <td>27</td>\n",
              "      <td>MASCULINO</td>\n",
              "    </tr>\n",
              "  </tbody>\n",
              "</table>\n",
              "<p>3 rows × 21 columns</p>\n",
              "</div>"
            ],
            "text/plain": [
              "   CODIGO_ACCIDENTE       FECHA      HORA  GRAVEDAD  CLASE_SINIESTRO  CHOQUE  \\\n",
              "0           4401419  02/01/2015  13:00:00       2.0              4.0     NaN   \n",
              "1           4401419  02/01/2015  13:00:00       2.0              4.0     NaN   \n",
              "2           4401420  01/01/2015  13:00:00       3.0              1.0     1.0   \n",
              "\n",
              "   OBJETO_FIJO                    DIRECCION  CODIGO_LOCALIDAD  DISENO_LUGAR  \\\n",
              "0          NaN  AV AVENIDA BOYACA-CL 49A 76               6.0           1.0   \n",
              "1          NaN  AV AVENIDA BOYACA-CL 49A 76               6.0           1.0   \n",
              "2          NaN             KR 17A-CL 63B 02              19.0           1.0   \n",
              "\n",
              "   ...   VEHICULO CLASE_VEHICULO  SERVICIO  MODALIDAD  ENFUGA  \\\n",
              "0  ...  4401419-1            2.0       2.0       10.0       N   \n",
              "1  ...  4401419-1            2.0       2.0       10.0       N   \n",
              "2  ...  4401420-1            1.0       2.0        5.0       N   \n",
              "\n",
              "  CODIGO_ACCIDENTADO             CONDICION  ESTADO EDAD       SEXO  \n",
              "0          2452497.0             CONDUCTOR   ILESO   53  MASCULINO  \n",
              "1          2452499.0  PASAJERO/ACOMPAÑANTE  HERIDO   36   FEMENINO  \n",
              "2          2452504.0             CONDUCTOR   ILESO   27  MASCULINO  \n",
              "\n",
              "[3 rows x 21 columns]"
            ]
          },
          "execution_count": 7,
          "metadata": {},
          "output_type": "execute_result"
        }
      ],
      "source": [
        "df.head(3)"
      ]
    },
    {
      "cell_type": "code",
      "execution_count": 8,
      "metadata": {},
      "outputs": [
        {
          "name": "stdout",
          "output_type": "stream",
          "text": [
            "<class 'pandas.core.frame.DataFrame'>\n",
            "RangeIndex: 502226 entries, 0 to 502225\n",
            "Data columns (total 21 columns):\n",
            " #   Column              Non-Null Count   Dtype  \n",
            "---  ------              --------------   -----  \n",
            " 0   CODIGO_ACCIDENTE    502226 non-null  int64  \n",
            " 1   FECHA               502226 non-null  object \n",
            " 2   HORA                478759 non-null  object \n",
            " 3   GRAVEDAD            478759 non-null  float64\n",
            " 4   CLASE_SINIESTRO     478759 non-null  float64\n",
            " 5   CHOQUE              432936 non-null  float64\n",
            " 6   OBJETO_FIJO         12275 non-null   float64\n",
            " 7   DIRECCION           478759 non-null  object \n",
            " 8   CODIGO_LOCALIDAD    478759 non-null  float64\n",
            " 9   DISENO_LUGAR        478759 non-null  float64\n",
            " 10  CODIGO_CAUSA        478041 non-null  object \n",
            " 11  VEHICULO            478625 non-null  object \n",
            " 12  CLASE_VEHICULO      474966 non-null  float64\n",
            " 13  SERVICIO            457211 non-null  float64\n",
            " 14  MODALIDAD           188410 non-null  float64\n",
            " 15  ENFUGA              478605 non-null  object \n",
            " 16  CODIGO_ACCIDENTADO  502070 non-null  float64\n",
            " 17  CONDICION           502070 non-null  object \n",
            " 18  ESTADO              502070 non-null  object \n",
            " 19  EDAD                502070 non-null  object \n",
            " 20  SEXO                502070 non-null  object \n",
            "dtypes: float64(10), int64(1), object(10)\n",
            "memory usage: 80.5+ MB\n"
          ]
        }
      ],
      "source": [
        "df.info()"
      ]
    },
    {
      "cell_type": "markdown",
      "metadata": {},
      "source": [
        "Observamos que el dataframe contiene una gran cantidad de elementos nulos, es por esto que debemos identificar que datos se pueden rellenar y cuales de deben descartar.\n"
      ]
    },
    {
      "cell_type": "markdown",
      "metadata": {},
      "source": [
        "Retomando lo mencionado en el entendimiento de los datos, para un cierto siniestro encontramos diferentes actores viales y vehiculos involucradas, es por esto que en el nuevo dataframe encontramos multiples veces los diferentes codigos de accidentes, esto gracias al *merge* y la informacion resgitrada sobre los siniestro. Como en el ejemplo ya mostrado, veamos los datos asociados al codigo ***4401436***:"
      ]
    },
    {
      "cell_type": "code",
      "execution_count": 9,
      "metadata": {},
      "outputs": [
        {
          "data": {
            "text/html": [
              "<div>\n",
              "<style scoped>\n",
              "    .dataframe tbody tr th:only-of-type {\n",
              "        vertical-align: middle;\n",
              "    }\n",
              "\n",
              "    .dataframe tbody tr th {\n",
              "        vertical-align: top;\n",
              "    }\n",
              "\n",
              "    .dataframe thead th {\n",
              "        text-align: right;\n",
              "    }\n",
              "</style>\n",
              "<table border=\"1\" class=\"dataframe\">\n",
              "  <thead>\n",
              "    <tr style=\"text-align: right;\">\n",
              "      <th></th>\n",
              "      <th>CODIGO_ACCIDENTE</th>\n",
              "      <th>FECHA</th>\n",
              "      <th>HORA</th>\n",
              "      <th>GRAVEDAD</th>\n",
              "      <th>CLASE_SINIESTRO</th>\n",
              "      <th>CHOQUE</th>\n",
              "      <th>OBJETO_FIJO</th>\n",
              "      <th>DIRECCION</th>\n",
              "      <th>CODIGO_LOCALIDAD</th>\n",
              "      <th>DISENO_LUGAR</th>\n",
              "      <th>...</th>\n",
              "      <th>VEHICULO</th>\n",
              "      <th>CLASE_VEHICULO</th>\n",
              "      <th>SERVICIO</th>\n",
              "      <th>MODALIDAD</th>\n",
              "      <th>ENFUGA</th>\n",
              "      <th>CODIGO_ACCIDENTADO</th>\n",
              "      <th>CONDICION</th>\n",
              "      <th>ESTADO</th>\n",
              "      <th>EDAD</th>\n",
              "      <th>SEXO</th>\n",
              "    </tr>\n",
              "  </thead>\n",
              "  <tbody>\n",
              "    <tr>\n",
              "      <th>40</th>\n",
              "      <td>4401436</td>\n",
              "      <td>02/01/2015</td>\n",
              "      <td>11:00:00</td>\n",
              "      <td>2.0</td>\n",
              "      <td>1.0</td>\n",
              "      <td>1.0</td>\n",
              "      <td>NaN</td>\n",
              "      <td>CL 68B-KR 72A 02</td>\n",
              "      <td>10.0</td>\n",
              "      <td>1.0</td>\n",
              "      <td>...</td>\n",
              "      <td>4401436-1</td>\n",
              "      <td>2.0</td>\n",
              "      <td>2.0</td>\n",
              "      <td>10.0</td>\n",
              "      <td>N</td>\n",
              "      <td>2452538.0</td>\n",
              "      <td>CONDUCTOR</td>\n",
              "      <td>ILESO</td>\n",
              "      <td>33</td>\n",
              "      <td>FEMENINO</td>\n",
              "    </tr>\n",
              "    <tr>\n",
              "      <th>41</th>\n",
              "      <td>4401436</td>\n",
              "      <td>02/01/2015</td>\n",
              "      <td>11:00:00</td>\n",
              "      <td>2.0</td>\n",
              "      <td>1.0</td>\n",
              "      <td>1.0</td>\n",
              "      <td>NaN</td>\n",
              "      <td>CL 68B-KR 72A 02</td>\n",
              "      <td>10.0</td>\n",
              "      <td>1.0</td>\n",
              "      <td>...</td>\n",
              "      <td>4401436-1</td>\n",
              "      <td>2.0</td>\n",
              "      <td>2.0</td>\n",
              "      <td>10.0</td>\n",
              "      <td>N</td>\n",
              "      <td>2452541.0</td>\n",
              "      <td>PASAJERO/ACOMPAÑANTE</td>\n",
              "      <td>HERIDO</td>\n",
              "      <td>39</td>\n",
              "      <td>FEMENINO</td>\n",
              "    </tr>\n",
              "    <tr>\n",
              "      <th>42</th>\n",
              "      <td>4401436</td>\n",
              "      <td>02/01/2015</td>\n",
              "      <td>11:00:00</td>\n",
              "      <td>2.0</td>\n",
              "      <td>1.0</td>\n",
              "      <td>1.0</td>\n",
              "      <td>NaN</td>\n",
              "      <td>CL 68B-KR 72A 02</td>\n",
              "      <td>10.0</td>\n",
              "      <td>1.0</td>\n",
              "      <td>...</td>\n",
              "      <td>4401436-1</td>\n",
              "      <td>2.0</td>\n",
              "      <td>2.0</td>\n",
              "      <td>10.0</td>\n",
              "      <td>N</td>\n",
              "      <td>2452542.0</td>\n",
              "      <td>PASAJERO/ACOMPAÑANTE</td>\n",
              "      <td>HERIDO</td>\n",
              "      <td>63</td>\n",
              "      <td>MASCULINO</td>\n",
              "    </tr>\n",
              "    <tr>\n",
              "      <th>43</th>\n",
              "      <td>4401436</td>\n",
              "      <td>02/01/2015</td>\n",
              "      <td>11:00:00</td>\n",
              "      <td>2.0</td>\n",
              "      <td>1.0</td>\n",
              "      <td>1.0</td>\n",
              "      <td>NaN</td>\n",
              "      <td>CL 68B-KR 72A 02</td>\n",
              "      <td>10.0</td>\n",
              "      <td>1.0</td>\n",
              "      <td>...</td>\n",
              "      <td>4401436-1</td>\n",
              "      <td>2.0</td>\n",
              "      <td>2.0</td>\n",
              "      <td>10.0</td>\n",
              "      <td>N</td>\n",
              "      <td>2452543.0</td>\n",
              "      <td>PASAJERO/ACOMPAÑANTE</td>\n",
              "      <td>HERIDO</td>\n",
              "      <td>35</td>\n",
              "      <td>FEMENINO</td>\n",
              "    </tr>\n",
              "    <tr>\n",
              "      <th>44</th>\n",
              "      <td>4401436</td>\n",
              "      <td>02/01/2015</td>\n",
              "      <td>11:00:00</td>\n",
              "      <td>2.0</td>\n",
              "      <td>1.0</td>\n",
              "      <td>1.0</td>\n",
              "      <td>NaN</td>\n",
              "      <td>CL 68B-KR 72A 02</td>\n",
              "      <td>10.0</td>\n",
              "      <td>1.0</td>\n",
              "      <td>...</td>\n",
              "      <td>4401436-1</td>\n",
              "      <td>2.0</td>\n",
              "      <td>2.0</td>\n",
              "      <td>10.0</td>\n",
              "      <td>N</td>\n",
              "      <td>2452544.0</td>\n",
              "      <td>PASAJERO/ACOMPAÑANTE</td>\n",
              "      <td>HERIDO</td>\n",
              "      <td>43</td>\n",
              "      <td>MASCULINO</td>\n",
              "    </tr>\n",
              "    <tr>\n",
              "      <th>45</th>\n",
              "      <td>4401436</td>\n",
              "      <td>02/01/2015</td>\n",
              "      <td>11:00:00</td>\n",
              "      <td>2.0</td>\n",
              "      <td>1.0</td>\n",
              "      <td>1.0</td>\n",
              "      <td>NaN</td>\n",
              "      <td>CL 68B-KR 72A 02</td>\n",
              "      <td>10.0</td>\n",
              "      <td>1.0</td>\n",
              "      <td>...</td>\n",
              "      <td>4401436-2</td>\n",
              "      <td>4.0</td>\n",
              "      <td>2.0</td>\n",
              "      <td>11.0</td>\n",
              "      <td>N</td>\n",
              "      <td>2452539.0</td>\n",
              "      <td>CONDUCTOR</td>\n",
              "      <td>HERIDO</td>\n",
              "      <td>20</td>\n",
              "      <td>MASCULINO</td>\n",
              "    </tr>\n",
              "  </tbody>\n",
              "</table>\n",
              "<p>6 rows × 21 columns</p>\n",
              "</div>"
            ],
            "text/plain": [
              "    CODIGO_ACCIDENTE       FECHA      HORA  GRAVEDAD  CLASE_SINIESTRO  CHOQUE  \\\n",
              "40           4401436  02/01/2015  11:00:00       2.0              1.0     1.0   \n",
              "41           4401436  02/01/2015  11:00:00       2.0              1.0     1.0   \n",
              "42           4401436  02/01/2015  11:00:00       2.0              1.0     1.0   \n",
              "43           4401436  02/01/2015  11:00:00       2.0              1.0     1.0   \n",
              "44           4401436  02/01/2015  11:00:00       2.0              1.0     1.0   \n",
              "45           4401436  02/01/2015  11:00:00       2.0              1.0     1.0   \n",
              "\n",
              "    OBJETO_FIJO         DIRECCION  CODIGO_LOCALIDAD  DISENO_LUGAR  ...  \\\n",
              "40          NaN  CL 68B-KR 72A 02              10.0           1.0  ...   \n",
              "41          NaN  CL 68B-KR 72A 02              10.0           1.0  ...   \n",
              "42          NaN  CL 68B-KR 72A 02              10.0           1.0  ...   \n",
              "43          NaN  CL 68B-KR 72A 02              10.0           1.0  ...   \n",
              "44          NaN  CL 68B-KR 72A 02              10.0           1.0  ...   \n",
              "45          NaN  CL 68B-KR 72A 02              10.0           1.0  ...   \n",
              "\n",
              "     VEHICULO CLASE_VEHICULO  SERVICIO  MODALIDAD  ENFUGA CODIGO_ACCIDENTADO  \\\n",
              "40  4401436-1            2.0       2.0       10.0       N          2452538.0   \n",
              "41  4401436-1            2.0       2.0       10.0       N          2452541.0   \n",
              "42  4401436-1            2.0       2.0       10.0       N          2452542.0   \n",
              "43  4401436-1            2.0       2.0       10.0       N          2452543.0   \n",
              "44  4401436-1            2.0       2.0       10.0       N          2452544.0   \n",
              "45  4401436-2            4.0       2.0       11.0       N          2452539.0   \n",
              "\n",
              "               CONDICION  ESTADO EDAD       SEXO  \n",
              "40             CONDUCTOR   ILESO   33   FEMENINO  \n",
              "41  PASAJERO/ACOMPAÑANTE  HERIDO   39   FEMENINO  \n",
              "42  PASAJERO/ACOMPAÑANTE  HERIDO   63  MASCULINO  \n",
              "43  PASAJERO/ACOMPAÑANTE  HERIDO   35   FEMENINO  \n",
              "44  PASAJERO/ACOMPAÑANTE  HERIDO   43  MASCULINO  \n",
              "45             CONDUCTOR  HERIDO   20  MASCULINO  \n",
              "\n",
              "[6 rows x 21 columns]"
            ]
          },
          "execution_count": 9,
          "metadata": {},
          "output_type": "execute_result"
        }
      ],
      "source": [
        "df[df.CODIGO_ACCIDENTE==4401436]"
      ]
    },
    {
      "cell_type": "markdown",
      "metadata": {},
      "source": [
        "Observamos entonces que la informacion de dicho siniestro contiene la informacion de cada actor vial presente y la informacion relacionada a este. Con esto en mente podemos agrupar los datos por el codigo de accidente y rellenar datos generales que sean intrínsecos del siniestro. Por ejemplo, la hora en la que ocurrio el siniestro es especifica del siniestro e independiete del actor vial, es por esto que para todos los involucrados la hora debe ser igual."
      ]
    },
    {
      "cell_type": "markdown",
      "metadata": {},
      "source": [
        "Para cumplir el objetivo de completar datos podemos definir las siguiente funcion:"
      ]
    },
    {
      "cell_type": "code",
      "execution_count": 10,
      "metadata": {
        "id": "JqHZ0OLXuOk5"
      },
      "outputs": [],
      "source": [
        "def fill_cols(df, cols, grupo):\n",
        "    \"\"\"\n",
        "    Llena los datos vacios de las columnas indicadas por el metodo ffill, \n",
        "    agrupando los datos por la caracteristica indicada.\n",
        "    Parametros:\n",
        "        df: Un dataframe de Pandas.\n",
        "        cols: Lista con cadenas de texto de los nombres de las columnas.\n",
        "        grupo: Cadena de texto con el nombre de la caracteristica por la cual agrupar.\n",
        "    Retorna:\n",
        "        Un dataframe en el que los datos vacios de las columnas indicadas se llenan por el metodo ffill.\n",
        "    \"\"\"\n",
        "    df[cols] = df.groupby(grupo)[cols].ffill()\n",
        "    return df"
      ]
    },
    {
      "cell_type": "markdown",
      "metadata": {},
      "source": [
        "La cual se encargan de llenar datos vacios. Esta funcion recibe como parametro un dataframe ```df```, las columnas ```cols``` a rellenar y la variable ```group``` que indica que informacion usar para agrupar los datos, y retorna el dataframe modificado."
      ]
    },
    {
      "cell_type": "code",
      "execution_count": 11,
      "metadata": {
        "colab": {
          "base_uri": "https://localhost:8080/",
          "height": 355
        },
        "id": "WaJr4bL2938v",
        "outputId": "061c4f4e-b676-4ccf-8b72-e1250f1cbfa1"
      },
      "outputs": [],
      "source": [
        "columnas = ['HORA', 'GRAVEDAD', 'CLASE_SINIESTRO', 'CHOQUE', 'OBJETO_FIJO', 'DIRECCION', 'CODIGO_LOCALIDAD', 'DISENO_LUGAR', 'CODIGO_CAUSA', 'ENFUGA']\n",
        "df = fill_cols(df, columnas, 'CODIGO_ACCIDENTE')"
      ]
    },
    {
      "cell_type": "markdown",
      "metadata": {},
      "source": [
        "Con este cambio, obtengamos nuevamente informacion sobre el dataframe"
      ]
    },
    {
      "cell_type": "code",
      "execution_count": 12,
      "metadata": {},
      "outputs": [
        {
          "name": "stdout",
          "output_type": "stream",
          "text": [
            "<class 'pandas.core.frame.DataFrame'>\n",
            "RangeIndex: 502226 entries, 0 to 502225\n",
            "Data columns (total 21 columns):\n",
            " #   Column              Non-Null Count   Dtype  \n",
            "---  ------              --------------   -----  \n",
            " 0   CODIGO_ACCIDENTE    502226 non-null  int64  \n",
            " 1   FECHA               502226 non-null  object \n",
            " 2   HORA                502226 non-null  object \n",
            " 3   GRAVEDAD            502226 non-null  float64\n",
            " 4   CLASE_SINIESTRO     502226 non-null  float64\n",
            " 5   CHOQUE              434819 non-null  float64\n",
            " 6   OBJETO_FIJO         12551 non-null   float64\n",
            " 7   DIRECCION           502226 non-null  object \n",
            " 8   CODIGO_LOCALIDAD    502226 non-null  float64\n",
            " 9   DISENO_LUGAR        502226 non-null  float64\n",
            " 10  CODIGO_CAUSA        501469 non-null  object \n",
            " 11  VEHICULO            478625 non-null  object \n",
            " 12  CLASE_VEHICULO      474966 non-null  float64\n",
            " 13  SERVICIO            457211 non-null  float64\n",
            " 14  MODALIDAD           188410 non-null  float64\n",
            " 15  ENFUGA              502072 non-null  object \n",
            " 16  CODIGO_ACCIDENTADO  502070 non-null  float64\n",
            " 17  CONDICION           502070 non-null  object \n",
            " 18  ESTADO              502070 non-null  object \n",
            " 19  EDAD                502070 non-null  object \n",
            " 20  SEXO                502070 non-null  object \n",
            "dtypes: float64(10), int64(1), object(10)\n",
            "memory usage: 80.5+ MB\n"
          ]
        }
      ],
      "source": [
        "df.info()"
      ]
    },
    {
      "cell_type": "markdown",
      "metadata": {},
      "source": [
        "Notamos entonces que las variables relacionadas directamente al siniestro ya no presentan datos nulos."
      ]
    },
    {
      "cell_type": "markdown",
      "metadata": {},
      "source": [
        "Ahora, un paso importante va a ser modificar las columnas **FECHA** y **HORA**, para generar una nueva columna que contenga esa informacion en una variable tipo *datetime*.\n",
        "\n",
        "Para esto debemos identificar primero como el tipo de variable que se encuentra almacenado en dichas columnas:"
      ]
    },
    {
      "cell_type": "code",
      "execution_count": 13,
      "metadata": {},
      "outputs": [
        {
          "data": {
            "text/plain": [
              "CODIGO_ACCIDENTE        int64\n",
              "FECHA                  object\n",
              "HORA                   object\n",
              "GRAVEDAD              float64\n",
              "CLASE_SINIESTRO       float64\n",
              "CHOQUE                float64\n",
              "OBJETO_FIJO           float64\n",
              "DIRECCION              object\n",
              "CODIGO_LOCALIDAD      float64\n",
              "DISENO_LUGAR          float64\n",
              "CODIGO_CAUSA           object\n",
              "VEHICULO               object\n",
              "CLASE_VEHICULO        float64\n",
              "SERVICIO              float64\n",
              "MODALIDAD             float64\n",
              "ENFUGA                 object\n",
              "CODIGO_ACCIDENTADO    float64\n",
              "CONDICION              object\n",
              "ESTADO                 object\n",
              "EDAD                   object\n",
              "SEXO                   object\n",
              "dtype: object"
            ]
          },
          "execution_count": 13,
          "metadata": {},
          "output_type": "execute_result"
        }
      ],
      "source": [
        "df.dtypes"
      ]
    },
    {
      "cell_type": "code",
      "execution_count": 14,
      "metadata": {},
      "outputs": [
        {
          "data": {
            "text/plain": [
              "(str, str)"
            ]
          },
          "execution_count": 14,
          "metadata": {},
          "output_type": "execute_result"
        }
      ],
      "source": [
        "type(df.loc[0,'FECHA']), type(df.loc[0,'HORA'])"
      ]
    },
    {
      "cell_type": "markdown",
      "metadata": {},
      "source": [
        "La fecha y hora estan almacenadas como objetos, en este caso, al obtener el tipo de los primero datos, dichos objetos son cadenas de texto. Por lo tanto la ruta que vamos a seguir es concatenar dichas cadenas y convertirlos a tipo *datetime* usando la funcion *to_datetime* que ofrece pandas. Estas variables seran almacenadas en la columna **FECHA** y eliminaremos la columna **HORA**."
      ]
    },
    {
      "cell_type": "code",
      "execution_count": 15,
      "metadata": {},
      "outputs": [
        {
          "data": {
            "text/plain": [
              "0        2015-01-02 13:00:00\n",
              "1        2015-01-02 13:00:00\n",
              "2        2015-01-01 13:00:00\n",
              "3        2015-01-01 13:00:00\n",
              "4        2015-01-02 11:15:00\n",
              "                 ...        \n",
              "502221   2020-11-09 11:11:00\n",
              "502222   2020-11-27 13:50:00\n",
              "502223   2020-12-06 02:20:00\n",
              "502224   2020-01-13 09:40:00\n",
              "502225   2020-06-06 02:31:00\n",
              "Name: FECHA, Length: 502226, dtype: datetime64[ns]"
            ]
          },
          "execution_count": 15,
          "metadata": {},
          "output_type": "execute_result"
        }
      ],
      "source": [
        "df['FECHA'] = pd.to_datetime(df.FECHA + ' '+ df.HORA, format=\"%d/%m/%Y %H:%M:%S\")\n",
        "df.drop(columns=['HORA'], axis=1, inplace=True)\n",
        "df.FECHA"
      ]
    },
    {
      "cell_type": "markdown",
      "metadata": {},
      "source": [
        "Por otro lado, la variable **OBJETO_FIJO** presenta valores vacios si el siniestro no ocurrio con algun objeto fijo, por lo tanto todos datos vacios de esta columna pueden considerarse bajo un nuevo valor 0 que indica un siniestro sin objetos fijos involucrados. De igual forma, los valores vacios de la columna **CODIGO_CAUSA** se llenan con ceros indicando que no se desconoce la hipotesis."
      ]
    },
    {
      "cell_type": "code",
      "execution_count": 16,
      "metadata": {},
      "outputs": [],
      "source": [
        "df['OBJETO_FIJO'].fillna(0, inplace=True)\n",
        "df['CODIGO_CAUSA'].fillna(0, inplace=True)"
      ]
    },
    {
      "cell_type": "markdown",
      "metadata": {},
      "source": [
        "Muchos de los siniestros no cuentan con informacion de los vehiculos involucrados, ya sea por que no aplica o porque este se encuentra en fuga. Como consecuencia de esto, los valores vacios de las columnas **CLASE_VEHICULO**, **SERVICIO** y **MODALIDAD**, se llenaran con 0 indicando que se trata de que esta caracteristica no aplica (ej. es un peaton) o si no hay registro de este por estado de fuga."
      ]
    },
    {
      "cell_type": "code",
      "execution_count": 17,
      "metadata": {},
      "outputs": [],
      "source": [
        "df.loc[df.CONDICION=='PEATON', ['CLASE_VEHICULO', 'SERVICIO', 'MODALIDAD']] = 0\n",
        "df.loc[df.ENFUGA=='S', ['CLASE_VEHICULO', 'SERVICIO', 'MODALIDAD']] = 0"
      ]
    },
    {
      "cell_type": "markdown",
      "metadata": {},
      "source": [
        "De igual forma, para los ciclistas y los bicitaxistas las variables **SERVICIO** y **MODALIDAD** tampoco aplican o se desconocen."
      ]
    },
    {
      "cell_type": "code",
      "execution_count": 18,
      "metadata": {},
      "outputs": [],
      "source": [
        "df.loc[df.CLASE_VEHICULO == 13, ['SERVICIO', 'MODALIDAD']] = 0\n",
        "df.loc[df.CLASE_VEHICULO == 28, ['SERVICIO', 'MODALIDAD']] = 0"
      ]
    },
    {
      "cell_type": "markdown",
      "metadata": {},
      "source": [
        "Para la variable **CHOQUE**, se deben agrupar los datos por el codigo de accidente, y los datos vacios de esta variable se llenan con 5 si alguno de los elementos del grupo es un peaton y 0 si no, esto debido a que en los datos entregados, si el choque ocurria contra algun peaton o el siniestro no fue causa de un choque, la columna de choques no registra valor."
      ]
    },
    {
      "cell_type": "code",
      "execution_count": 19,
      "metadata": {},
      "outputs": [],
      "source": [
        "condicion = lambda dfg: True if any(dfg=='PEATON') else False\n",
        "cond = df.groupby('CODIGO_ACCIDENTE')['CONDICION'].transform(condicion)\n",
        "df['CHOQUE'].fillna(cond.map({True: 5, False: 0}), inplace=True)"
      ]
    },
    {
      "cell_type": "markdown",
      "metadata": {},
      "source": [
        "Eliminamos los datos que despues del preprocesamiento contienen multiples valores vacios."
      ]
    },
    {
      "cell_type": "code",
      "execution_count": 20,
      "metadata": {},
      "outputs": [],
      "source": [
        "df.drop(df[df['CONDICION'].isna()].index, inplace=True)\n",
        "df.drop(df[df.CLASE_VEHICULO.isna()].index, inplace=True)"
      ]
    },
    {
      "cell_type": "markdown",
      "metadata": {},
      "source": [
        "La variable **CODIGO_CAUSA** contiene valores no numericos, de la siguiente forma:"
      ]
    },
    {
      "cell_type": "code",
      "execution_count": 21,
      "metadata": {},
      "outputs": [
        {
          "data": {
            "text/html": [
              "<div>\n",
              "<style scoped>\n",
              "    .dataframe tbody tr th:only-of-type {\n",
              "        vertical-align: middle;\n",
              "    }\n",
              "\n",
              "    .dataframe tbody tr th {\n",
              "        vertical-align: top;\n",
              "    }\n",
              "\n",
              "    .dataframe thead th {\n",
              "        text-align: right;\n",
              "    }\n",
              "</style>\n",
              "<table border=\"1\" class=\"dataframe\">\n",
              "  <thead>\n",
              "    <tr style=\"text-align: right;\">\n",
              "      <th></th>\n",
              "      <th>CODIGO_ACCIDENTE</th>\n",
              "      <th>FECHA</th>\n",
              "      <th>GRAVEDAD</th>\n",
              "      <th>CLASE_SINIESTRO</th>\n",
              "      <th>CHOQUE</th>\n",
              "      <th>OBJETO_FIJO</th>\n",
              "      <th>DIRECCION</th>\n",
              "      <th>CODIGO_LOCALIDAD</th>\n",
              "      <th>DISENO_LUGAR</th>\n",
              "      <th>CODIGO_CAUSA</th>\n",
              "      <th>VEHICULO</th>\n",
              "      <th>CLASE_VEHICULO</th>\n",
              "      <th>SERVICIO</th>\n",
              "      <th>MODALIDAD</th>\n",
              "      <th>ENFUGA</th>\n",
              "      <th>CODIGO_ACCIDENTADO</th>\n",
              "      <th>CONDICION</th>\n",
              "      <th>ESTADO</th>\n",
              "      <th>EDAD</th>\n",
              "      <th>SEXO</th>\n",
              "    </tr>\n",
              "  </thead>\n",
              "  <tbody>\n",
              "    <tr>\n",
              "      <th>801</th>\n",
              "      <td>4401761</td>\n",
              "      <td>2015-01-07 18:30:00</td>\n",
              "      <td>2.0</td>\n",
              "      <td>2.0</td>\n",
              "      <td>5.0</td>\n",
              "      <td>0.0</td>\n",
              "      <td>CL 60-KR 22B 55</td>\n",
              "      <td>19.0</td>\n",
              "      <td>1.0</td>\n",
              "      <td>ANT-139</td>\n",
              "      <td>4401761-1</td>\n",
              "      <td>10.0</td>\n",
              "      <td>3.0</td>\n",
              "      <td>NaN</td>\n",
              "      <td>N</td>\n",
              "      <td>2453250.0</td>\n",
              "      <td>MOTOCICLISTA</td>\n",
              "      <td>HERIDO</td>\n",
              "      <td>15</td>\n",
              "      <td>FEMENINO</td>\n",
              "    </tr>\n",
              "    <tr>\n",
              "      <th>72250</th>\n",
              "      <td>4431310</td>\n",
              "      <td>2015-12-05 05:10:00</td>\n",
              "      <td>2.0</td>\n",
              "      <td>1.0</td>\n",
              "      <td>1.0</td>\n",
              "      <td>0.0</td>\n",
              "      <td>CL 6A-KR 88D 60</td>\n",
              "      <td>8.0</td>\n",
              "      <td>1.0</td>\n",
              "      <td>ANT-139</td>\n",
              "      <td>4431310-1</td>\n",
              "      <td>5.0</td>\n",
              "      <td>3.0</td>\n",
              "      <td>NaN</td>\n",
              "      <td>N</td>\n",
              "      <td>2516865.0</td>\n",
              "      <td>CONDUCTOR</td>\n",
              "      <td>ILESO</td>\n",
              "      <td>35</td>\n",
              "      <td>MASCULINO</td>\n",
              "    </tr>\n",
              "  </tbody>\n",
              "</table>\n",
              "</div>"
            ],
            "text/plain": [
              "       CODIGO_ACCIDENTE               FECHA  GRAVEDAD  CLASE_SINIESTRO  \\\n",
              "801             4401761 2015-01-07 18:30:00       2.0              2.0   \n",
              "72250           4431310 2015-12-05 05:10:00       2.0              1.0   \n",
              "\n",
              "       CHOQUE  OBJETO_FIJO        DIRECCION  CODIGO_LOCALIDAD  DISENO_LUGAR  \\\n",
              "801       5.0          0.0  CL 60-KR 22B 55              19.0           1.0   \n",
              "72250     1.0          0.0  CL 6A-KR 88D 60               8.0           1.0   \n",
              "\n",
              "      CODIGO_CAUSA   VEHICULO  CLASE_VEHICULO  SERVICIO  MODALIDAD ENFUGA  \\\n",
              "801        ANT-139  4401761-1            10.0       3.0        NaN      N   \n",
              "72250      ANT-139  4431310-1             5.0       3.0        NaN      N   \n",
              "\n",
              "       CODIGO_ACCIDENTADO     CONDICION  ESTADO EDAD       SEXO  \n",
              "801             2453250.0  MOTOCICLISTA  HERIDO   15   FEMENINO  \n",
              "72250           2516865.0     CONDUCTOR   ILESO   35  MASCULINO  "
            ]
          },
          "execution_count": 21,
          "metadata": {},
          "output_type": "execute_result"
        }
      ],
      "source": [
        "df[~df['CODIGO_CAUSA'].astype(str).str.isdigit()].head(2)"
      ]
    },
    {
      "cell_type": "markdown",
      "metadata": {},
      "source": [
        "Este termino *ANT* encontrado en **CODIGO_CAUSA** esta asociado a , por lo tanto, vamos a conservar el codigo de la hipotesis extrayendo la parte numerica de la cadena de texto."
      ]
    },
    {
      "cell_type": "code",
      "execution_count": 22,
      "metadata": {},
      "outputs": [],
      "source": [
        "df['CODIGO_CAUSA'] = df.CODIGO_CAUSA.astype(str).transform(lambda val: ''.join(filter(str.isdigit, val))).astype(int)"
      ]
    },
    {
      "cell_type": "markdown",
      "metadata": {},
      "source": [
        "Por ultimo, las variable categoricas las convertimos a valores numericos para trabajar un analisis estadistico de estas. Para esto definimos la funcion ```categorias```, la cual genera un diccionario que nos permitira identificar cada valor categorico con un entero."
      ]
    },
    {
      "cell_type": "code",
      "execution_count": 24,
      "metadata": {},
      "outputs": [],
      "source": [
        "def categorias(df, col):\n",
        "    \"\"\"\n",
        "    Crea un diccionario asociando un valor entero a cada valor categorico de la columna,\n",
        "    en el dataframe df.\n",
        "    Parametros:\n",
        "        df: Un dataframe de Pandas.\n",
        "        col: Cadena de texto del nombre de las columna.\n",
        "    Retorna:\n",
        "        Un diccionario en el que cada nombre tiene asociado un entero.\n",
        "    \"\"\"\n",
        "    nombres = np.array(df[col].value_counts().index)\n",
        "    return {nombres[i]:i+1 for i in range(len(nombres))}"
      ]
    },
    {
      "cell_type": "code",
      "execution_count": 25,
      "metadata": {},
      "outputs": [
        {
          "name": "stdout",
          "output_type": "stream",
          "text": [
            "{'CONDUCTOR': 1, 'MOTOCICLISTA': 2, 'PASAJERO/ACOMPAÑANTE': 3, 'PEATON': 4, 'CICLISTA': 5}\n",
            "{'ILESO': 1, 'HERIDO': 2, 'MUERTO': 3}\n",
            "{'MASCULINO': 1, 'FEMENINO': 2, 'SIN INFORMACION': 3}\n",
            "{'N': 1, 'S': 2}\n"
          ]
        }
      ],
      "source": [
        "variables = ['CONDICION', 'ESTADO', 'SEXO', 'ENFUGA']\n",
        "for variable in variables:\n",
        "    dic = categorias(df, variable)\n",
        "    df[variable].replace(dic, inplace=True)\n",
        "    print(dic)\n"
      ]
    },
    {
      "cell_type": "markdown",
      "metadata": {},
      "source": [
        "Finalmente, el dataframe  resultante contiene las siguientes variables:\n",
        "\n",
        "| Variable | Definición\t| Valores |\n",
        "| --- | --- | --- |\n",
        "| CODIGO_ACCIDENTE | Codigo asociado al siniestro. | Valor tipo int. |\n",
        "|FECHA| Dia, mes, año, hora, minuto y segundo en el que ocurrio el siniestro. | Valor tipo datetime. |\n",
        "| GRAVEDAD | Grado de gravedad del siniestro. | 1(Con muertos), 2(Con heridos), 3(Solo daños).|\n",
        "| CLASE_SINIESTRO | Tipo de siniestro ocurrido.  | 1(Choque), 2(Atropello), 3(Volcamiento), 4(Caida de ocupante), 5(Incendio), 6(Otro), 7(Autolesion). |\n",
        "| CHOQUE | Elementos involucrados en el choque. | 0(No hubo choque), 1(Vehiculo), 2(Tren), 3(Semoviente), 4(Objeto fijo), 5(Peaton). |\n",
        "| OBJETIVO_FIJO | Elemento inmovil contra el que ocurrio el siniestro. | 0(No hubo choque contra un objeto fijo), 1(Muro), 2(Poste), 3(Arbol), 4(Barandas), 5(Semaforo), 6(Inmueble), 7(Hidrante), 8(Valla, Señal), 9(Tarima, Caseta), 10(Vehiculo estacionado), 11(Otro).|\n",
        "|DIRECCION| Direccion donde ocurrio el siniestro. | Variable tipo str. |\n",
        "|CODIGO_LOCALIDAD| Codigo asociado a la localidad donde ocurrio el siniestro. | 1(Usaquén), 2(Chapinero), 3(Santa Fe), 4(San Cristóbal), 5(Usme), 6(Tunjuelito), 7(Bosa), 8(Kennedy), 9(Fontibón), 10(Engativá), 11(Suba), 12(Barrios Unidos), 13(Teusaquillo), 14(Los Mártires), 15(Antonio Nariño), 16(Puente Aranda), 17(La Candelaria), 18(Rafael Uribe Uribe), 19(Ciudad Bolivar), 20(Sumapaz).|\n",
        "|DISENO_LUGAR| Tipo de lugar en el que ocurrio el siniestro. | 1(Tramo de via), 2(Intersección), 3(Via peatonal), 4(Paso elevado), 5(Paso inferior), 6(Paso a nivel), 7(Glorieta), 8(Puente), 9(Via troncal), 10(Lote o predio), 11(Cicloruta), 12(Ponton), 13(Tunel).|\n",
        "|CODIGO_CAUSA| Codigo asociado a la hipotesis de la causa del sinietro. | Valor tipo int. |\n",
        "|VEHICULO| Codigo del vehiculo involucrado en el siniestro. | Valor tipo str. |\n",
        "|CLASE_VEHICULO| Tipo de vehiculo involucrado en el accidente. | 0(Peaton), 1(Automovil), 2(Bus), 3(Buseta), 4(Camion, Furgon), 5(Camioneta), 6(Campero), 7(Microbus), 8(Tractocamion), 9(Volqueta), 10(Motocicleta), 11(Maquina Agricola), 12(Maquina Industrial), 13(Bicicleta), 14(Motocarro), 15(Traccion animal), 16(Otro), 17(Motociclo), 18(No identificado), 19(Bus Articulado), 20(Bus Alimentador), 21(Tren), 22(Ambulancia), 23(Metro), 24(Cuatrimoto), 25(Remolque), 26(Semi-Remolque), 27(Bus Bi-Articulado).|\n",
        "|SERVICIO| Tipo de servicio prestado por el vehiculo involucrado. |0(Sin informacion), 1(Oficial), 2(Publico), 3(Particular), 4(Diplomatico).|\n",
        "|MODALIDAD| Modalidad de carga/pasajeros presentes en el vehiculo. |1(Mixto), 2(Carga - Extrapesada), 3(Carga - Extradimensionada), 4(Pasajeros - Colectivo), 5(Pasajeros - Individual), 6(Pasajeros - Especial escolar), 7(Pasajeros - Especial turismo), 8(Pasajeros - Especial asalariado), 9(Pasajeros - Especial Ocasional), 10(Pasajeros - Masivo), 11(Carga - Pesada), 12(Carga - Mercancia Peligrosa).|\n",
        "|ENFUGA| El vehiculo se encuentra en fuga del siniestro. | 1(No), 2(Si)|\n",
        "|CODIGO_ACCIDENTADO| Codigo asociado al paciente accidentado. | Valor tipo str. |\n",
        "|CONDICION| Clasificacion del tipo de actor que es el individuo en el siniestro. | 1(CONDUCTOR), 2(MOTOCICLISTA), 3(PASAJERO/ACOMPAÑATE), 4(PEATON), 5(CICLISTA). |\n",
        "|ESTADO| Condicion del individuo involucrado en el siniestro. |  1(ILESO), 2(HERIDO), 3(MUERTO) |\n",
        "|EDAD| Edad del individuo. | Variable tipo int. |\n",
        "|SEXO| Sexo del individuo. | 1(MASCULINO), 2(FEMENINO), 3(SIN INFORMACION) |"
      ]
    },
    {
      "cell_type": "markdown",
      "metadata": {
        "id": "kLtfEYHvuOk_"
      },
      "source": [
        "## Analisis de datos"
      ]
    },
    {
      "cell_type": "markdown",
      "metadata": {},
      "source": [
        "Empezamos este componente importando las librerias a usar para el analisis estadistico y la visualizacion de los datos."
      ]
    },
    {
      "cell_type": "code",
      "execution_count": 26,
      "metadata": {},
      "outputs": [],
      "source": [
        "#Paquetes para el analisis estadistico\n",
        "\n",
        "import scipy as sp\n",
        "from scipy import stats\n",
        "import statsmodels.api as sm\n",
        "from scipy.optimize import curve_fit\n",
        "from scipy.stats import poisson\n",
        "\n",
        "#Paquetes para la visualizaciones estadisticas e interactivas\n",
        "\n",
        "import matplotlib.pyplot as plt\n",
        "import seaborn as sns\n",
        "import plotly.graph_objs as go\n",
        "import plotly.express as px\n",
        "\n",
        "#Indicamos a pandas que las visualizaciones se contruiran en Plotly y estableciendo seaborn por defecto\n",
        "\n",
        "pd.options.plotting.backend = \"plotly\"\n",
        "sns.set()"
      ]
    },
    {
      "cell_type": "markdown",
      "metadata": {},
      "source": [
        "Definimos un nuevo dataframe ```df_est```, en el cual eliminamos las variables que son cadenas de texto o sirven como identificacion. Esto para poder trabajar con las variables categoricas numericas."
      ]
    },
    {
      "cell_type": "code",
      "execution_count": 27,
      "metadata": {},
      "outputs": [
        {
          "data": {
            "text/plain": [
              "FECHA               datetime64[ns]\n",
              "GRAVEDAD                   float64\n",
              "CLASE_SINIESTRO            float64\n",
              "CHOQUE                     float64\n",
              "OBJETO_FIJO                float64\n",
              "CODIGO_LOCALIDAD           float64\n",
              "DISENO_LUGAR               float64\n",
              "CODIGO_CAUSA                 int32\n",
              "CLASE_VEHICULO             float64\n",
              "SERVICIO                   float64\n",
              "ENFUGA                       int64\n",
              "CONDICION                    int64\n",
              "ESTADO                       int64\n",
              "EDAD                        object\n",
              "SEXO                         int64\n",
              "dtype: object"
            ]
          },
          "execution_count": 27,
          "metadata": {},
          "output_type": "execute_result"
        }
      ],
      "source": [
        "df_est = df.drop(['CODIGO_ACCIDENTE', 'DIRECCION', 'CODIGO_ACCIDENTADO', 'VEHICULO', 'MODALIDAD'], axis=1)\n",
        "df_est.dtypes"
      ]
    },
    {
      "cell_type": "markdown",
      "metadata": {},
      "source": [
        "Observemos la estadistica descriptiva asociada a los datos."
      ]
    },
    {
      "cell_type": "code",
      "execution_count": 28,
      "metadata": {},
      "outputs": [
        {
          "data": {
            "text/html": [
              "<div>\n",
              "<style scoped>\n",
              "    .dataframe tbody tr th:only-of-type {\n",
              "        vertical-align: middle;\n",
              "    }\n",
              "\n",
              "    .dataframe tbody tr th {\n",
              "        vertical-align: top;\n",
              "    }\n",
              "\n",
              "    .dataframe thead th {\n",
              "        text-align: right;\n",
              "    }\n",
              "</style>\n",
              "<table border=\"1\" class=\"dataframe\">\n",
              "  <thead>\n",
              "    <tr style=\"text-align: right;\">\n",
              "      <th></th>\n",
              "      <th>FECHA</th>\n",
              "      <th>GRAVEDAD</th>\n",
              "      <th>CLASE_SINIESTRO</th>\n",
              "      <th>CHOQUE</th>\n",
              "      <th>OBJETO_FIJO</th>\n",
              "      <th>CODIGO_LOCALIDAD</th>\n",
              "      <th>DISENO_LUGAR</th>\n",
              "      <th>CODIGO_CAUSA</th>\n",
              "      <th>CLASE_VEHICULO</th>\n",
              "      <th>SERVICIO</th>\n",
              "      <th>ENFUGA</th>\n",
              "      <th>CONDICION</th>\n",
              "      <th>ESTADO</th>\n",
              "      <th>SEXO</th>\n",
              "    </tr>\n",
              "  </thead>\n",
              "  <tbody>\n",
              "    <tr>\n",
              "      <th>count</th>\n",
              "      <td>501967</td>\n",
              "      <td>501967.000000</td>\n",
              "      <td>501967.000000</td>\n",
              "      <td>501967.000000</td>\n",
              "      <td>501967.000000</td>\n",
              "      <td>501967.000000</td>\n",
              "      <td>501967.000000</td>\n",
              "      <td>501967.000000</td>\n",
              "      <td>501967.000000</td>\n",
              "      <td>501967.000000</td>\n",
              "      <td>501967.000000</td>\n",
              "      <td>501967.000000</td>\n",
              "      <td>501967.000000</td>\n",
              "      <td>501967.000000</td>\n",
              "    </tr>\n",
              "    <tr>\n",
              "      <th>mean</th>\n",
              "      <td>2017-11-26 00:33:18.273592064</td>\n",
              "      <td>2.584827</td>\n",
              "      <td>1.203079</td>\n",
              "      <td>1.438897</td>\n",
              "      <td>0.154247</td>\n",
              "      <td>9.297358</td>\n",
              "      <td>1.426480</td>\n",
              "      <td>147.693789</td>\n",
              "      <td>4.024390</td>\n",
              "      <td>2.299677</td>\n",
              "      <td>1.016649</td>\n",
              "      <td>1.542295</td>\n",
              "      <td>1.241667</td>\n",
              "      <td>1.197925</td>\n",
              "    </tr>\n",
              "    <tr>\n",
              "      <th>min</th>\n",
              "      <td>2015-01-01 01:05:00</td>\n",
              "      <td>1.000000</td>\n",
              "      <td>1.000000</td>\n",
              "      <td>0.000000</td>\n",
              "      <td>0.000000</td>\n",
              "      <td>1.000000</td>\n",
              "      <td>1.000000</td>\n",
              "      <td>0.000000</td>\n",
              "      <td>0.000000</td>\n",
              "      <td>0.000000</td>\n",
              "      <td>1.000000</td>\n",
              "      <td>1.000000</td>\n",
              "      <td>1.000000</td>\n",
              "      <td>1.000000</td>\n",
              "    </tr>\n",
              "    <tr>\n",
              "      <th>25%</th>\n",
              "      <td>2016-06-30 11:15:00</td>\n",
              "      <td>2.000000</td>\n",
              "      <td>1.000000</td>\n",
              "      <td>1.000000</td>\n",
              "      <td>0.000000</td>\n",
              "      <td>6.000000</td>\n",
              "      <td>1.000000</td>\n",
              "      <td>112.000000</td>\n",
              "      <td>1.000000</td>\n",
              "      <td>2.000000</td>\n",
              "      <td>1.000000</td>\n",
              "      <td>1.000000</td>\n",
              "      <td>1.000000</td>\n",
              "      <td>1.000000</td>\n",
              "    </tr>\n",
              "    <tr>\n",
              "      <th>50%</th>\n",
              "      <td>2017-11-23 15:30:00</td>\n",
              "      <td>3.000000</td>\n",
              "      <td>1.000000</td>\n",
              "      <td>1.000000</td>\n",
              "      <td>0.000000</td>\n",
              "      <td>9.000000</td>\n",
              "      <td>1.000000</td>\n",
              "      <td>121.000000</td>\n",
              "      <td>2.000000</td>\n",
              "      <td>3.000000</td>\n",
              "      <td>1.000000</td>\n",
              "      <td>1.000000</td>\n",
              "      <td>1.000000</td>\n",
              "      <td>1.000000</td>\n",
              "    </tr>\n",
              "    <tr>\n",
              "      <th>75%</th>\n",
              "      <td>2019-04-16 08:30:00</td>\n",
              "      <td>3.000000</td>\n",
              "      <td>1.000000</td>\n",
              "      <td>1.000000</td>\n",
              "      <td>0.000000</td>\n",
              "      <td>13.000000</td>\n",
              "      <td>1.000000</td>\n",
              "      <td>145.000000</td>\n",
              "      <td>6.000000</td>\n",
              "      <td>3.000000</td>\n",
              "      <td>1.000000</td>\n",
              "      <td>2.000000</td>\n",
              "      <td>1.000000</td>\n",
              "      <td>1.000000</td>\n",
              "    </tr>\n",
              "    <tr>\n",
              "      <th>max</th>\n",
              "      <td>2020-12-31 22:34:00</td>\n",
              "      <td>3.000000</td>\n",
              "      <td>7.000000</td>\n",
              "      <td>5.000000</td>\n",
              "      <td>16.000000</td>\n",
              "      <td>20.000000</td>\n",
              "      <td>13.000000</td>\n",
              "      <td>506.000000</td>\n",
              "      <td>28.000000</td>\n",
              "      <td>4.000000</td>\n",
              "      <td>2.000000</td>\n",
              "      <td>5.000000</td>\n",
              "      <td>3.000000</td>\n",
              "      <td>3.000000</td>\n",
              "    </tr>\n",
              "    <tr>\n",
              "      <th>std</th>\n",
              "      <td>NaN</td>\n",
              "      <td>0.526549</td>\n",
              "      <td>0.622049</td>\n",
              "      <td>1.289903</td>\n",
              "      <td>1.142773</td>\n",
              "      <td>5.008516</td>\n",
              "      <td>1.250823</td>\n",
              "      <td>79.832934</td>\n",
              "      <td>3.759828</td>\n",
              "      <td>0.906950</td>\n",
              "      <td>0.127951</td>\n",
              "      <td>1.033670</td>\n",
              "      <td>0.444330</td>\n",
              "      <td>0.453211</td>\n",
              "    </tr>\n",
              "  </tbody>\n",
              "</table>\n",
              "</div>"
            ],
            "text/plain": [
              "                               FECHA       GRAVEDAD  CLASE_SINIESTRO  \\\n",
              "count                         501967  501967.000000    501967.000000   \n",
              "mean   2017-11-26 00:33:18.273592064       2.584827         1.203079   \n",
              "min              2015-01-01 01:05:00       1.000000         1.000000   \n",
              "25%              2016-06-30 11:15:00       2.000000         1.000000   \n",
              "50%              2017-11-23 15:30:00       3.000000         1.000000   \n",
              "75%              2019-04-16 08:30:00       3.000000         1.000000   \n",
              "max              2020-12-31 22:34:00       3.000000         7.000000   \n",
              "std                              NaN       0.526549         0.622049   \n",
              "\n",
              "              CHOQUE    OBJETO_FIJO  CODIGO_LOCALIDAD   DISENO_LUGAR  \\\n",
              "count  501967.000000  501967.000000     501967.000000  501967.000000   \n",
              "mean        1.438897       0.154247          9.297358       1.426480   \n",
              "min         0.000000       0.000000          1.000000       1.000000   \n",
              "25%         1.000000       0.000000          6.000000       1.000000   \n",
              "50%         1.000000       0.000000          9.000000       1.000000   \n",
              "75%         1.000000       0.000000         13.000000       1.000000   \n",
              "max         5.000000      16.000000         20.000000      13.000000   \n",
              "std         1.289903       1.142773          5.008516       1.250823   \n",
              "\n",
              "        CODIGO_CAUSA  CLASE_VEHICULO       SERVICIO         ENFUGA  \\\n",
              "count  501967.000000   501967.000000  501967.000000  501967.000000   \n",
              "mean      147.693789        4.024390       2.299677       1.016649   \n",
              "min         0.000000        0.000000       0.000000       1.000000   \n",
              "25%       112.000000        1.000000       2.000000       1.000000   \n",
              "50%       121.000000        2.000000       3.000000       1.000000   \n",
              "75%       145.000000        6.000000       3.000000       1.000000   \n",
              "max       506.000000       28.000000       4.000000       2.000000   \n",
              "std        79.832934        3.759828       0.906950       0.127951   \n",
              "\n",
              "           CONDICION         ESTADO           SEXO  \n",
              "count  501967.000000  501967.000000  501967.000000  \n",
              "mean        1.542295       1.241667       1.197925  \n",
              "min         1.000000       1.000000       1.000000  \n",
              "25%         1.000000       1.000000       1.000000  \n",
              "50%         1.000000       1.000000       1.000000  \n",
              "75%         2.000000       1.000000       1.000000  \n",
              "max         5.000000       3.000000       3.000000  \n",
              "std         1.033670       0.444330       0.453211  "
            ]
          },
          "execution_count": 28,
          "metadata": {},
          "output_type": "execute_result"
        }
      ],
      "source": [
        "df_est.describe()"
      ]
    },
    {
      "cell_type": "markdown",
      "metadata": {},
      "source": [
        "El ojetivo ahora es poder obtener un analisis estadistico de los datos, dado que son variables categoricas, el poceso de analisis de correlaciones y de regresiones difiere del tratamiento a variables continuas. Un ejemplo lo observamos en las siguientes graficas y en la visualizacion de la matriz de correlacion."
      ]
    },
    {
      "cell_type": "code",
      "execution_count": 29,
      "metadata": {},
      "outputs": [
        {
          "name": "stderr",
          "output_type": "stream",
          "text": [
            "c:\\Users\\juan1\\AppData\\Local\\Programs\\Python\\Python311\\Lib\\site-packages\\seaborn\\axisgrid.py:118: UserWarning: The figure layout has changed to tight\n",
            "  self._figure.tight_layout(*args, **kwargs)\n"
          ]
        },
        {
          "data": {
            "text/plain": [
              "<seaborn.axisgrid.PairGrid at 0x238d467cb10>"
            ]
          },
          "execution_count": 29,
          "metadata": {},
          "output_type": "execute_result"
        },
        {
          "data": {
            "image/png": "[encoded data removed]",
            "text/plain": [
              "<Figure size 1000x1000 with 20 Axes>"
            ]
          },
          "metadata": {},
          "output_type": "display_data"
        }
      ],
      "source": [
        "sns.pairplot(data= df_est.iloc[:,1:5])"
      ]
    },
    {
      "cell_type": "code",
      "execution_count": 30,
      "metadata": {},
      "outputs": [
        {
          "data": {
            "text/plain": [
              "<Axes: >"
            ]
          },
          "execution_count": 30,
          "metadata": {},
          "output_type": "execute_result"
        },
        {
          "data": {
            "image/png": "[encoded data removed]",
            "text/plain": [
              "<Figure size 640x480 with 2 Axes>"
            ]
          },
          "metadata": {},
          "output_type": "display_data"
        }
      ],
      "source": [
        "corr = df_est.corr(numeric_only=True)\n",
        "sns.heatmap(corr, cmap='coolwarm')"
      ]
    },
    {
      "cell_type": "markdown",
      "metadata": {},
      "source": [
        "Con esto notamos que no existen muchas correlaciones significativas dentro del dataframe, y el proceso de generar una regresion lineal o multilineal no es muy fructuosa dado que las variables no presentan comportamientos de este tipo. Podemos empezar el analisis bajo series de temporales de la ocurrencia de siniestros, el resultado de esto se espera sea la caracterizacion de las ocurrencias bajo una distribucion de Poisson, con una tasa dependiente del tiempo."
      ]
    },
    {
      "cell_type": "markdown",
      "metadata": {},
      "source": [
        "#### Ajuste distribucion de Poisson"
      ]
    },
    {
      "cell_type": "markdown",
      "metadata": {},
      "source": [
        "Observemos como se comportan la cantidad de accidentes por dia para el año 2015:"
      ]
    },
    {
      "cell_type": "code",
      "execution_count": 31,
      "metadata": {},
      "outputs": [
        {
          "data": {
            "application/vnd.plotly.v1+json": {
              "config": {
                "plotlyServerURL": "https://plot.ly"
              },
              "data": [
                {
                  "alignmentgroup": "True",
                  "hovertemplate": "variable=FECHA<br>index=%{x}<br>value=%{y}<extra></extra>",
                  "legendgroup": "FECHA",
                  "marker": {
                    "color": "#636efa",
                    "pattern": {
                      "shape": ""
                    }
                  },
                  "name": "FECHA",
                  "offsetgroup": "FECHA",
                  "orientation": "v",
                  "showlegend": true,
                  "textposition": "auto",
                  "type": "bar",
                  "x": [
                    1,
                    2,
                    3,
                    4,
                    5,
                    6,
                    7,
                    8,
                    9,
                    10,
                    11,
                    12,
                    13,
                    14,
                    15,
                    16,
                    17,
                    18,
                    19,
                    20,
                    21,
                    22,
                    23,
                    24,
                    25,
                    26,
                    27,
                    28,
                    29,
                    30,
                    31
                  ],
                  "xaxis": "x",
                  "y": [
                    2444,
                    2641,
                    2631,
                    2468,
                    2584,
                    2577,
                    2544,
                    2409,
                    2703,
                    2729,
                    2855,
                    2547,
                    2720,
                    2835,
                    2645,
                    2979,
                    2758,
                    2803,
                    2803,
                    2803,
                    2819,
                    2414,
                    2714,
                    2899,
                    2947,
                    2619,
                    2860,
                    2757,
                    2321,
                    2504,
                    1650
                  ],
                  "yaxis": "y"
                }
              ],
              "layout": {
                "barmode": "relative",
                "legend": {
                  "title": {
                    "text": "variable"
                  },
                  "tracegroupgap": 0
                },
                "margin": {
                  "t": 60
                },
                "template": {
                  "data": {
                    "bar": [
                      {
                        "error_x": {
                          "color": "#2a3f5f"
                        },
                        "error_y": {
                          "color": "#2a3f5f"
                        },
                        "marker": {
                          "line": {
                            "color": "#E5ECF6",
                            "width": 0.5
                          },
                          "pattern": {
                            "fillmode": "overlay",
                            "size": 10,
                            "solidity": 0.2
                          }
                        },
                        "type": "bar"
                      }
                    ],
                    "barpolar": [
                      {
                        "marker": {
                          "line": {
                            "color": "#E5ECF6",
                            "width": 0.5
                          },
                          "pattern": {
                            "fillmode": "overlay",
                            "size": 10,
                            "solidity": 0.2
                          }
                        },
                        "type": "barpolar"
                      }
                    ],
                    "carpet": [
                      {
                        "aaxis": {
                          "endlinecolor": "#2a3f5f",
                          "gridcolor": "white",
                          "linecolor": "white",
                          "minorgridcolor": "white",
                          "startlinecolor": "#2a3f5f"
                        },
                        "baxis": {
                          "endlinecolor": "#2a3f5f",
                          "gridcolor": "white",
                          "linecolor": "white",
                          "minorgridcolor": "white",
                          "startlinecolor": "#2a3f5f"
                        },
                        "type": "carpet"
                      }
                    ],
                    "choropleth": [
                      {
                        "colorbar": {
                          "outlinewidth": 0,
                          "ticks": ""
                        },
                        "type": "choropleth"
                      }
                    ],
                    "contour": [
                      {
                        "colorbar": {
                          "outlinewidth": 0,
                          "ticks": ""
                        },
                        "colorscale": [
                          [
                            0,
                            "#0d0887"
                          ],
                          [
                            0.1111111111111111,
                            "#46039f"
                          ],
                          [
                            0.2222222222222222,
                            "#7201a8"
                          ],
                          [
                            0.3333333333333333,
                            "#9c179e"
                          ],
                          [
                            0.4444444444444444,
                            "#bd3786"
                          ],
                          [
                            0.5555555555555556,
                            "#d8576b"
                          ],
                          [
                            0.6666666666666666,
                            "#ed7953"
                          ],
                          [
                            0.7777777777777778,
                            "#fb9f3a"
                          ],
                          [
                            0.8888888888888888,
                            "#fdca26"
                          ],
                          [
                            1,
                            "#f0f921"
                          ]
                        ],
                        "type": "contour"
                      }
                    ],
                    "contourcarpet": [
                      {
                        "colorbar": {
                          "outlinewidth": 0,
                          "ticks": ""
                        },
                        "type": "contourcarpet"
                      }
                    ],
                    "heatmap": [
                      {
                        "colorbar": {
                          "outlinewidth": 0,
                          "ticks": ""
                        },
                        "colorscale": [
                          [
                            0,
                            "#0d0887"
                          ],
                          [
                            0.1111111111111111,
                            "#46039f"
                          ],
                          [
                            0.2222222222222222,
                            "#7201a8"
                          ],
                          [
                            0.3333333333333333,
                            "#9c179e"
                          ],
                          [
                            0.4444444444444444,
                            "#bd3786"
                          ],
                          [
                            0.5555555555555556,
                            "#d8576b"
                          ],
                          [
                            0.6666666666666666,
                            "#ed7953"
                          ],
                          [
                            0.7777777777777778,
                            "#fb9f3a"
                          ],
                          [
                            0.8888888888888888,
                            "#fdca26"
                          ],
                          [
                            1,
                            "#f0f921"
                          ]
                        ],
                        "type": "heatmap"
                      }
                    ],
                    "heatmapgl": [
                      {
                        "colorbar": {
                          "outlinewidth": 0,
                          "ticks": ""
                        },
                        "colorscale": [
                          [
                            0,
                            "#0d0887"
                          ],
                          [
                            0.1111111111111111,
                            "#46039f"
                          ],
                          [
                            0.2222222222222222,
                            "#7201a8"
                          ],
                          [
                            0.3333333333333333,
                            "#9c179e"
                          ],
                          [
                            0.4444444444444444,
                            "#bd3786"
                          ],
                          [
                            0.5555555555555556,
                            "#d8576b"
                          ],
                          [
                            0.6666666666666666,
                            "#ed7953"
                          ],
                          [
                            0.7777777777777778,
                            "#fb9f3a"
                          ],
                          [
                            0.8888888888888888,
                            "#fdca26"
                          ],
                          [
                            1,
                            "#f0f921"
                          ]
                        ],
                        "type": "heatmapgl"
                      }
                    ],
                    "histogram": [
                      {
                        "marker": {
                          "pattern": {
                            "fillmode": "overlay",
                            "size": 10,
                            "solidity": 0.2
                          }
                        },
                        "type": "histogram"
                      }
                    ],
                    "histogram2d": [
                      {
                        "colorbar": {
                          "outlinewidth": 0,
                          "ticks": ""
                        },
                        "colorscale": [
                          [
                            0,
                            "#0d0887"
                          ],
                          [
                            0.1111111111111111,
                            "#46039f"
                          ],
                          [
                            0.2222222222222222,
                            "#7201a8"
                          ],
                          [
                            0.3333333333333333,
                            "#9c179e"
                          ],
                          [
                            0.4444444444444444,
                            "#bd3786"
                          ],
                          [
                            0.5555555555555556,
                            "#d8576b"
                          ],
                          [
                            0.6666666666666666,
                            "#ed7953"
                          ],
                          [
                            0.7777777777777778,
                            "#fb9f3a"
                          ],
                          [
                            0.8888888888888888,
                            "#fdca26"
                          ],
                          [
                            1,
                            "#f0f921"
                          ]
                        ],
                        "type": "histogram2d"
                      }
                    ],
                    "histogram2dcontour": [
                      {
                        "colorbar": {
                          "outlinewidth": 0,
                          "ticks": ""
                        },
                        "colorscale": [
                          [
                            0,
                            "#0d0887"
                          ],
                          [
                            0.1111111111111111,
                            "#46039f"
                          ],
                          [
                            0.2222222222222222,
                            "#7201a8"
                          ],
                          [
                            0.3333333333333333,
                            "#9c179e"
                          ],
                          [
                            0.4444444444444444,
                            "#bd3786"
                          ],
                          [
                            0.5555555555555556,
                            "#d8576b"
                          ],
                          [
                            0.6666666666666666,
                            "#ed7953"
                          ],
                          [
                            0.7777777777777778,
                            "#fb9f3a"
                          ],
                          [
                            0.8888888888888888,
                            "#fdca26"
                          ],
                          [
                            1,
                            "#f0f921"
                          ]
                        ],
                        "type": "histogram2dcontour"
                      }
                    ],
                    "mesh3d": [
                      {
                        "colorbar": {
                          "outlinewidth": 0,
                          "ticks": ""
                        },
                        "type": "mesh3d"
                      }
                    ],
                    "parcoords": [
                      {
                        "line": {
                          "colorbar": {
                            "outlinewidth": 0,
                            "ticks": ""
                          }
                        },
                        "type": "parcoords"
                      }
                    ],
                    "pie": [
                      {
                        "automargin": true,
                        "type": "pie"
                      }
                    ],
                    "scatter": [
                      {
                        "fillpattern": {
                          "fillmode": "overlay",
                          "size": 10,
                          "solidity": 0.2
                        },
                        "type": "scatter"
                      }
                    ],
                    "scatter3d": [
                      {
                        "line": {
                          "colorbar": {
                            "outlinewidth": 0,
                            "ticks": ""
                          }
                        },
                        "marker": {
                          "colorbar": {
                            "outlinewidth": 0,
                            "ticks": ""
                          }
                        },
                        "type": "scatter3d"
                      }
                    ],
                    "scattercarpet": [
                      {
                        "marker": {
                          "colorbar": {
                            "outlinewidth": 0,
                            "ticks": ""
                          }
                        },
                        "type": "scattercarpet"
                      }
                    ],
                    "scattergeo": [
                      {
                        "marker": {
                          "colorbar": {
                            "outlinewidth": 0,
                            "ticks": ""
                          }
                        },
                        "type": "scattergeo"
                      }
                    ],
                    "scattergl": [
                      {
                        "marker": {
                          "colorbar": {
                            "outlinewidth": 0,
                            "ticks": ""
                          }
                        },
                        "type": "scattergl"
                      }
                    ],
                    "scattermapbox": [
                      {
                        "marker": {
                          "colorbar": {
                            "outlinewidth": 0,
                            "ticks": ""
                          }
                        },
                        "type": "scattermapbox"
                      }
                    ],
                    "scatterpolar": [
                      {
                        "marker": {
                          "colorbar": {
                            "outlinewidth": 0,
                            "ticks": ""
                          }
                        },
                        "type": "scatterpolar"
                      }
                    ],
                    "scatterpolargl": [
                      {
                        "marker": {
                          "colorbar": {
                            "outlinewidth": 0,
                            "ticks": ""
                          }
                        },
                        "type": "scatterpolargl"
                      }
                    ],
                    "scatterternary": [
                      {
                        "marker": {
                          "colorbar": {
                            "outlinewidth": 0,
                            "ticks": ""
                          }
                        },
                        "type": "scatterternary"
                      }
                    ],
                    "surface": [
                      {
                        "colorbar": {
                          "outlinewidth": 0,
                          "ticks": ""
                        },
                        "colorscale": [
                          [
                            0,
                            "#0d0887"
                          ],
                          [
                            0.1111111111111111,
                            "#46039f"
                          ],
                          [
                            0.2222222222222222,
                            "#7201a8"
                          ],
                          [
                            0.3333333333333333,
                            "#9c179e"
                          ],
                          [
                            0.4444444444444444,
                            "#bd3786"
                          ],
                          [
                            0.5555555555555556,
                            "#d8576b"
                          ],
                          [
                            0.6666666666666666,
                            "#ed7953"
                          ],
                          [
                            0.7777777777777778,
                            "#fb9f3a"
                          ],
                          [
                            0.8888888888888888,
                            "#fdca26"
                          ],
                          [
                            1,
                            "#f0f921"
                          ]
                        ],
                        "type": "surface"
                      }
                    ],
                    "table": [
                      {
                        "cells": {
                          "fill": {
                            "color": "#EBF0F8"
                          },
                          "line": {
                            "color": "white"
                          }
                        },
                        "header": {
                          "fill": {
                            "color": "#C8D4E3"
                          },
                          "line": {
                            "color": "white"
                          }
                        },
                        "type": "table"
                      }
                    ]
                  },
                  "layout": {
                    "annotationdefaults": {
                      "arrowcolor": "#2a3f5f",
                      "arrowhead": 0,
                      "arrowwidth": 1
                    },
                    "autotypenumbers": "strict",
                    "coloraxis": {
                      "colorbar": {
                        "outlinewidth": 0,
                        "ticks": ""
                      }
                    },
                    "colorscale": {
                      "diverging": [
                        [
                          0,
                          "#8e0152"
                        ],
                        [
                          0.1,
                          "#c51b7d"
                        ],
                        [
                          0.2,
                          "#de77ae"
                        ],
                        [
                          0.3,
                          "#f1b6da"
                        ],
                        [
                          0.4,
                          "#fde0ef"
                        ],
                        [
                          0.5,
                          "#f7f7f7"
                        ],
                        [
                          0.6,
                          "#e6f5d0"
                        ],
                        [
                          0.7,
                          "#b8e186"
                        ],
                        [
                          0.8,
                          "#7fbc41"
                        ],
                        [
                          0.9,
                          "#4d9221"
                        ],
                        [
                          1,
                          "#276419"
                        ]
                      ],
                      "sequential": [
                        [
                          0,
                          "#0d0887"
                        ],
                        [
                          0.1111111111111111,
                          "#46039f"
                        ],
                        [
                          0.2222222222222222,
                          "#7201a8"
                        ],
                        [
                          0.3333333333333333,
                          "#9c179e"
                        ],
                        [
                          0.4444444444444444,
                          "#bd3786"
                        ],
                        [
                          0.5555555555555556,
                          "#d8576b"
                        ],
                        [
                          0.6666666666666666,
                          "#ed7953"
                        ],
                        [
                          0.7777777777777778,
                          "#fb9f3a"
                        ],
                        [
                          0.8888888888888888,
                          "#fdca26"
                        ],
                        [
                          1,
                          "#f0f921"
                        ]
                      ],
                      "sequentialminus": [
                        [
                          0,
                          "#0d0887"
                        ],
                        [
                          0.1111111111111111,
                          "#46039f"
                        ],
                        [
                          0.2222222222222222,
                          "#7201a8"
                        ],
                        [
                          0.3333333333333333,
                          "#9c179e"
                        ],
                        [
                          0.4444444444444444,
                          "#bd3786"
                        ],
                        [
                          0.5555555555555556,
                          "#d8576b"
                        ],
                        [
                          0.6666666666666666,
                          "#ed7953"
                        ],
                        [
                          0.7777777777777778,
                          "#fb9f3a"
                        ],
                        [
                          0.8888888888888888,
                          "#fdca26"
                        ],
                        [
                          1,
                          "#f0f921"
                        ]
                      ]
                    },
                    "colorway": [
                      "#636efa",
                      "#EF553B",
                      "#00cc96",
                      "#ab63fa",
                      "#FFA15A",
                      "#19d3f3",
                      "#FF6692",
                      "#B6E880",
                      "#FF97FF",
                      "#FECB52"
                    ],
                    "font": {
                      "color": "#2a3f5f"
                    },
                    "geo": {
                      "bgcolor": "white",
                      "lakecolor": "white",
                      "landcolor": "#E5ECF6",
                      "showlakes": true,
                      "showland": true,
                      "subunitcolor": "white"
                    },
                    "hoverlabel": {
                      "align": "left"
                    },
                    "hovermode": "closest",
                    "mapbox": {
                      "style": "light"
                    },
                    "paper_bgcolor": "white",
                    "plot_bgcolor": "#E5ECF6",
                    "polar": {
                      "angularaxis": {
                        "gridcolor": "white",
                        "linecolor": "white",
                        "ticks": ""
                      },
                      "bgcolor": "#E5ECF6",
                      "radialaxis": {
                        "gridcolor": "white",
                        "linecolor": "white",
                        "ticks": ""
                      }
                    },
                    "scene": {
                      "xaxis": {
                        "backgroundcolor": "#E5ECF6",
                        "gridcolor": "white",
                        "gridwidth": 2,
                        "linecolor": "white",
                        "showbackground": true,
                        "ticks": "",
                        "zerolinecolor": "white"
                      },
                      "yaxis": {
                        "backgroundcolor": "#E5ECF6",
                        "gridcolor": "white",
                        "gridwidth": 2,
                        "linecolor": "white",
                        "showbackground": true,
                        "ticks": "",
                        "zerolinecolor": "white"
                      },
                      "zaxis": {
                        "backgroundcolor": "#E5ECF6",
                        "gridcolor": "white",
                        "gridwidth": 2,
                        "linecolor": "white",
                        "showbackground": true,
                        "ticks": "",
                        "zerolinecolor": "white"
                      }
                    },
                    "shapedefaults": {
                      "line": {
                        "color": "#2a3f5f"
                      }
                    },
                    "ternary": {
                      "aaxis": {
                        "gridcolor": "white",
                        "linecolor": "white",
                        "ticks": ""
                      },
                      "baxis": {
                        "gridcolor": "white",
                        "linecolor": "white",
                        "ticks": ""
                      },
                      "bgcolor": "#E5ECF6",
                      "caxis": {
                        "gridcolor": "white",
                        "linecolor": "white",
                        "ticks": ""
                      }
                    },
                    "title": {
                      "x": 0.05
                    },
                    "xaxis": {
                      "automargin": true,
                      "gridcolor": "white",
                      "linecolor": "white",
                      "ticks": "",
                      "title": {
                        "standoff": 15
                      },
                      "zerolinecolor": "white",
                      "zerolinewidth": 2
                    },
                    "yaxis": {
                      "automargin": true,
                      "gridcolor": "white",
                      "linecolor": "white",
                      "ticks": "",
                      "title": {
                        "standoff": 15
                      },
                      "zerolinecolor": "white",
                      "zerolinewidth": 2
                    }
                  }
                },
                "xaxis": {
                  "anchor": "y",
                  "domain": [
                    0,
                    1
                  ],
                  "title": {
                    "text": "index"
                  }
                },
                "yaxis": {
                  "anchor": "x",
                  "domain": [
                    0,
                    1
                  ],
                  "title": {
                    "text": "value"
                  }
                }
              }
            }
          },
          "metadata": {},
          "output_type": "display_data"
        }
      ],
      "source": [
        "accidente_hora = df.groupby(df_est[(df_est.FECHA.dt.year == 2015)].FECHA.dt.day).count().FECHA\n",
        "accidente_hora.plot(kind='bar')"
      ]
    },
    {
      "cell_type": "markdown",
      "metadata": {},
      "source": [
        "Notamos un valor mas o menos constante, por lo tanto, la idea es modelar una tasa de siniestros diarios que dependa del mes, es decir que para cada mes contaremos con una tasa de accidentes diarion promedio. Para esto observemos primero como se comportan los siniestros diarios para el mes de enero y diciembre del año 2015."
      ]
    },
    {
      "cell_type": "code",
      "execution_count": 32,
      "metadata": {},
      "outputs": [
        {
          "data": {
            "application/vnd.plotly.v1+json": {
              "config": {
                "plotlyServerURL": "https://plot.ly"
              },
              "data": [
                {
                  "alignmentgroup": "True",
                  "hovertemplate": "variable=FECHA<br>index=%{x}<br>value=%{y}<extra></extra>",
                  "legendgroup": "FECHA",
                  "marker": {
                    "color": "#636efa",
                    "pattern": {
                      "shape": ""
                    }
                  },
                  "name": "FECHA",
                  "offsetgroup": "FECHA",
                  "orientation": "v",
                  "showlegend": true,
                  "textposition": "auto",
                  "type": "bar",
                  "x": [
                    1,
                    2,
                    3,
                    4,
                    5,
                    6,
                    7,
                    8,
                    9,
                    10,
                    11,
                    12,
                    13,
                    14,
                    15,
                    16,
                    17,
                    18,
                    19,
                    20,
                    21,
                    22,
                    23,
                    24,
                    25,
                    26,
                    27,
                    28,
                    29,
                    30,
                    31
                  ],
                  "xaxis": "x",
                  "y": [
                    38,
                    131,
                    106,
                    111,
                    174,
                    159,
                    136,
                    195,
                    176,
                    144,
                    75,
                    113,
                    202,
                    220,
                    218,
                    326,
                    257,
                    152,
                    176,
                    181,
                    162,
                    230,
                    271,
                    212,
                    134,
                    223,
                    245,
                    264,
                    220,
                    244,
                    207
                  ],
                  "yaxis": "y"
                }
              ],
              "layout": {
                "barmode": "relative",
                "legend": {
                  "title": {
                    "text": "variable"
                  },
                  "tracegroupgap": 0
                },
                "margin": {
                  "t": 60
                },
                "template": {
                  "data": {
                    "bar": [
                      {
                        "error_x": {
                          "color": "#2a3f5f"
                        },
                        "error_y": {
                          "color": "#2a3f5f"
                        },
                        "marker": {
                          "line": {
                            "color": "#E5ECF6",
                            "width": 0.5
                          },
                          "pattern": {
                            "fillmode": "overlay",
                            "size": 10,
                            "solidity": 0.2
                          }
                        },
                        "type": "bar"
                      }
                    ],
                    "barpolar": [
                      {
                        "marker": {
                          "line": {
                            "color": "#E5ECF6",
                            "width": 0.5
                          },
                          "pattern": {
                            "fillmode": "overlay",
                            "size": 10,
                            "solidity": 0.2
                          }
                        },
                        "type": "barpolar"
                      }
                    ],
                    "carpet": [
                      {
                        "aaxis": {
                          "endlinecolor": "#2a3f5f",
                          "gridcolor": "white",
                          "linecolor": "white",
                          "minorgridcolor": "white",
                          "startlinecolor": "#2a3f5f"
                        },
                        "baxis": {
                          "endlinecolor": "#2a3f5f",
                          "gridcolor": "white",
                          "linecolor": "white",
                          "minorgridcolor": "white",
                          "startlinecolor": "#2a3f5f"
                        },
                        "type": "carpet"
                      }
                    ],
                    "choropleth": [
                      {
                        "colorbar": {
                          "outlinewidth": 0,
                          "ticks": ""
                        },
                        "type": "choropleth"
                      }
                    ],
                    "contour": [
                      {
                        "colorbar": {
                          "outlinewidth": 0,
                          "ticks": ""
                        },
                        "colorscale": [
                          [
                            0,
                            "#0d0887"
                          ],
                          [
                            0.1111111111111111,
                            "#46039f"
                          ],
                          [
                            0.2222222222222222,
                            "#7201a8"
                          ],
                          [
                            0.3333333333333333,
                            "#9c179e"
                          ],
                          [
                            0.4444444444444444,
                            "#bd3786"
                          ],
                          [
                            0.5555555555555556,
                            "#d8576b"
                          ],
                          [
                            0.6666666666666666,
                            "#ed7953"
                          ],
                          [
                            0.7777777777777778,
                            "#fb9f3a"
                          ],
                          [
                            0.8888888888888888,
                            "#fdca26"
                          ],
                          [
                            1,
                            "#f0f921"
                          ]
                        ],
                        "type": "contour"
                      }
                    ],
                    "contourcarpet": [
                      {
                        "colorbar": {
                          "outlinewidth": 0,
                          "ticks": ""
                        },
                        "type": "contourcarpet"
                      }
                    ],
                    "heatmap": [
                      {
                        "colorbar": {
                          "outlinewidth": 0,
                          "ticks": ""
                        },
                        "colorscale": [
                          [
                            0,
                            "#0d0887"
                          ],
                          [
                            0.1111111111111111,
                            "#46039f"
                          ],
                          [
                            0.2222222222222222,
                            "#7201a8"
                          ],
                          [
                            0.3333333333333333,
                            "#9c179e"
                          ],
                          [
                            0.4444444444444444,
                            "#bd3786"
                          ],
                          [
                            0.5555555555555556,
                            "#d8576b"
                          ],
                          [
                            0.6666666666666666,
                            "#ed7953"
                          ],
                          [
                            0.7777777777777778,
                            "#fb9f3a"
                          ],
                          [
                            0.8888888888888888,
                            "#fdca26"
                          ],
                          [
                            1,
                            "#f0f921"
                          ]
                        ],
                        "type": "heatmap"
                      }
                    ],
                    "heatmapgl": [
                      {
                        "colorbar": {
                          "outlinewidth": 0,
                          "ticks": ""
                        },
                        "colorscale": [
                          [
                            0,
                            "#0d0887"
                          ],
                          [
                            0.1111111111111111,
                            "#46039f"
                          ],
                          [
                            0.2222222222222222,
                            "#7201a8"
                          ],
                          [
                            0.3333333333333333,
                            "#9c179e"
                          ],
                          [
                            0.4444444444444444,
                            "#bd3786"
                          ],
                          [
                            0.5555555555555556,
                            "#d8576b"
                          ],
                          [
                            0.6666666666666666,
                            "#ed7953"
                          ],
                          [
                            0.7777777777777778,
                            "#fb9f3a"
                          ],
                          [
                            0.8888888888888888,
                            "#fdca26"
                          ],
                          [
                            1,
                            "#f0f921"
                          ]
                        ],
                        "type": "heatmapgl"
                      }
                    ],
                    "histogram": [
                      {
                        "marker": {
                          "pattern": {
                            "fillmode": "overlay",
                            "size": 10,
                            "solidity": 0.2
                          }
                        },
                        "type": "histogram"
                      }
                    ],
                    "histogram2d": [
                      {
                        "colorbar": {
                          "outlinewidth": 0,
                          "ticks": ""
                        },
                        "colorscale": [
                          [
                            0,
                            "#0d0887"
                          ],
                          [
                            0.1111111111111111,
                            "#46039f"
                          ],
                          [
                            0.2222222222222222,
                            "#7201a8"
                          ],
                          [
                            0.3333333333333333,
                            "#9c179e"
                          ],
                          [
                            0.4444444444444444,
                            "#bd3786"
                          ],
                          [
                            0.5555555555555556,
                            "#d8576b"
                          ],
                          [
                            0.6666666666666666,
                            "#ed7953"
                          ],
                          [
                            0.7777777777777778,
                            "#fb9f3a"
                          ],
                          [
                            0.8888888888888888,
                            "#fdca26"
                          ],
                          [
                            1,
                            "#f0f921"
                          ]
                        ],
                        "type": "histogram2d"
                      }
                    ],
                    "histogram2dcontour": [
                      {
                        "colorbar": {
                          "outlinewidth": 0,
                          "ticks": ""
                        },
                        "colorscale": [
                          [
                            0,
                            "#0d0887"
                          ],
                          [
                            0.1111111111111111,
                            "#46039f"
                          ],
                          [
                            0.2222222222222222,
                            "#7201a8"
                          ],
                          [
                            0.3333333333333333,
                            "#9c179e"
                          ],
                          [
                            0.4444444444444444,
                            "#bd3786"
                          ],
                          [
                            0.5555555555555556,
                            "#d8576b"
                          ],
                          [
                            0.6666666666666666,
                            "#ed7953"
                          ],
                          [
                            0.7777777777777778,
                            "#fb9f3a"
                          ],
                          [
                            0.8888888888888888,
                            "#fdca26"
                          ],
                          [
                            1,
                            "#f0f921"
                          ]
                        ],
                        "type": "histogram2dcontour"
                      }
                    ],
                    "mesh3d": [
                      {
                        "colorbar": {
                          "outlinewidth": 0,
                          "ticks": ""
                        },
                        "type": "mesh3d"
                      }
                    ],
                    "parcoords": [
                      {
                        "line": {
                          "colorbar": {
                            "outlinewidth": 0,
                            "ticks": ""
                          }
                        },
                        "type": "parcoords"
                      }
                    ],
                    "pie": [
                      {
                        "automargin": true,
                        "type": "pie"
                      }
                    ],
                    "scatter": [
                      {
                        "fillpattern": {
                          "fillmode": "overlay",
                          "size": 10,
                          "solidity": 0.2
                        },
                        "type": "scatter"
                      }
                    ],
                    "scatter3d": [
                      {
                        "line": {
                          "colorbar": {
                            "outlinewidth": 0,
                            "ticks": ""
                          }
                        },
                        "marker": {
                          "colorbar": {
                            "outlinewidth": 0,
                            "ticks": ""
                          }
                        },
                        "type": "scatter3d"
                      }
                    ],
                    "scattercarpet": [
                      {
                        "marker": {
                          "colorbar": {
                            "outlinewidth": 0,
                            "ticks": ""
                          }
                        },
                        "type": "scattercarpet"
                      }
                    ],
                    "scattergeo": [
                      {
                        "marker": {
                          "colorbar": {
                            "outlinewidth": 0,
                            "ticks": ""
                          }
                        },
                        "type": "scattergeo"
                      }
                    ],
                    "scattergl": [
                      {
                        "marker": {
                          "colorbar": {
                            "outlinewidth": 0,
                            "ticks": ""
                          }
                        },
                        "type": "scattergl"
                      }
                    ],
                    "scattermapbox": [
                      {
                        "marker": {
                          "colorbar": {
                            "outlinewidth": 0,
                            "ticks": ""
                          }
                        },
                        "type": "scattermapbox"
                      }
                    ],
                    "scatterpolar": [
                      {
                        "marker": {
                          "colorbar": {
                            "outlinewidth": 0,
                            "ticks": ""
                          }
                        },
                        "type": "scatterpolar"
                      }
                    ],
                    "scatterpolargl": [
                      {
                        "marker": {
                          "colorbar": {
                            "outlinewidth": 0,
                            "ticks": ""
                          }
                        },
                        "type": "scatterpolargl"
                      }
                    ],
                    "scatterternary": [
                      {
                        "marker": {
                          "colorbar": {
                            "outlinewidth": 0,
                            "ticks": ""
                          }
                        },
                        "type": "scatterternary"
                      }
                    ],
                    "surface": [
                      {
                        "colorbar": {
                          "outlinewidth": 0,
                          "ticks": ""
                        },
                        "colorscale": [
                          [
                            0,
                            "#0d0887"
                          ],
                          [
                            0.1111111111111111,
                            "#46039f"
                          ],
                          [
                            0.2222222222222222,
                            "#7201a8"
                          ],
                          [
                            0.3333333333333333,
                            "#9c179e"
                          ],
                          [
                            0.4444444444444444,
                            "#bd3786"
                          ],
                          [
                            0.5555555555555556,
                            "#d8576b"
                          ],
                          [
                            0.6666666666666666,
                            "#ed7953"
                          ],
                          [
                            0.7777777777777778,
                            "#fb9f3a"
                          ],
                          [
                            0.8888888888888888,
                            "#fdca26"
                          ],
                          [
                            1,
                            "#f0f921"
                          ]
                        ],
                        "type": "surface"
                      }
                    ],
                    "table": [
                      {
                        "cells": {
                          "fill": {
                            "color": "#EBF0F8"
                          },
                          "line": {
                            "color": "white"
                          }
                        },
                        "header": {
                          "fill": {
                            "color": "#C8D4E3"
                          },
                          "line": {
                            "color": "white"
                          }
                        },
                        "type": "table"
                      }
                    ]
                  },
                  "layout": {
                    "annotationdefaults": {
                      "arrowcolor": "#2a3f5f",
                      "arrowhead": 0,
                      "arrowwidth": 1
                    },
                    "autotypenumbers": "strict",
                    "coloraxis": {
                      "colorbar": {
                        "outlinewidth": 0,
                        "ticks": ""
                      }
                    },
                    "colorscale": {
                      "diverging": [
                        [
                          0,
                          "#8e0152"
                        ],
                        [
                          0.1,
                          "#c51b7d"
                        ],
                        [
                          0.2,
                          "#de77ae"
                        ],
                        [
                          0.3,
                          "#f1b6da"
                        ],
                        [
                          0.4,
                          "#fde0ef"
                        ],
                        [
                          0.5,
                          "#f7f7f7"
                        ],
                        [
                          0.6,
                          "#e6f5d0"
                        ],
                        [
                          0.7,
                          "#b8e186"
                        ],
                        [
                          0.8,
                          "#7fbc41"
                        ],
                        [
                          0.9,
                          "#4d9221"
                        ],
                        [
                          1,
                          "#276419"
                        ]
                      ],
                      "sequential": [
                        [
                          0,
                          "#0d0887"
                        ],
                        [
                          0.1111111111111111,
                          "#46039f"
                        ],
                        [
                          0.2222222222222222,
                          "#7201a8"
                        ],
                        [
                          0.3333333333333333,
                          "#9c179e"
                        ],
                        [
                          0.4444444444444444,
                          "#bd3786"
                        ],
                        [
                          0.5555555555555556,
                          "#d8576b"
                        ],
                        [
                          0.6666666666666666,
                          "#ed7953"
                        ],
                        [
                          0.7777777777777778,
                          "#fb9f3a"
                        ],
                        [
                          0.8888888888888888,
                          "#fdca26"
                        ],
                        [
                          1,
                          "#f0f921"
                        ]
                      ],
                      "sequentialminus": [
                        [
                          0,
                          "#0d0887"
                        ],
                        [
                          0.1111111111111111,
                          "#46039f"
                        ],
                        [
                          0.2222222222222222,
                          "#7201a8"
                        ],
                        [
                          0.3333333333333333,
                          "#9c179e"
                        ],
                        [
                          0.4444444444444444,
                          "#bd3786"
                        ],
                        [
                          0.5555555555555556,
                          "#d8576b"
                        ],
                        [
                          0.6666666666666666,
                          "#ed7953"
                        ],
                        [
                          0.7777777777777778,
                          "#fb9f3a"
                        ],
                        [
                          0.8888888888888888,
                          "#fdca26"
                        ],
                        [
                          1,
                          "#f0f921"
                        ]
                      ]
                    },
                    "colorway": [
                      "#636efa",
                      "#EF553B",
                      "#00cc96",
                      "#ab63fa",
                      "#FFA15A",
                      "#19d3f3",
                      "#FF6692",
                      "#B6E880",
                      "#FF97FF",
                      "#FECB52"
                    ],
                    "font": {
                      "color": "#2a3f5f"
                    },
                    "geo": {
                      "bgcolor": "white",
                      "lakecolor": "white",
                      "landcolor": "#E5ECF6",
                      "showlakes": true,
                      "showland": true,
                      "subunitcolor": "white"
                    },
                    "hoverlabel": {
                      "align": "left"
                    },
                    "hovermode": "closest",
                    "mapbox": {
                      "style": "light"
                    },
                    "paper_bgcolor": "white",
                    "plot_bgcolor": "#E5ECF6",
                    "polar": {
                      "angularaxis": {
                        "gridcolor": "white",
                        "linecolor": "white",
                        "ticks": ""
                      },
                      "bgcolor": "#E5ECF6",
                      "radialaxis": {
                        "gridcolor": "white",
                        "linecolor": "white",
                        "ticks": ""
                      }
                    },
                    "scene": {
                      "xaxis": {
                        "backgroundcolor": "#E5ECF6",
                        "gridcolor": "white",
                        "gridwidth": 2,
                        "linecolor": "white",
                        "showbackground": true,
                        "ticks": "",
                        "zerolinecolor": "white"
                      },
                      "yaxis": {
                        "backgroundcolor": "#E5ECF6",
                        "gridcolor": "white",
                        "gridwidth": 2,
                        "linecolor": "white",
                        "showbackground": true,
                        "ticks": "",
                        "zerolinecolor": "white"
                      },
                      "zaxis": {
                        "backgroundcolor": "#E5ECF6",
                        "gridcolor": "white",
                        "gridwidth": 2,
                        "linecolor": "white",
                        "showbackground": true,
                        "ticks": "",
                        "zerolinecolor": "white"
                      }
                    },
                    "shapedefaults": {
                      "line": {
                        "color": "#2a3f5f"
                      }
                    },
                    "ternary": {
                      "aaxis": {
                        "gridcolor": "white",
                        "linecolor": "white",
                        "ticks": ""
                      },
                      "baxis": {
                        "gridcolor": "white",
                        "linecolor": "white",
                        "ticks": ""
                      },
                      "bgcolor": "#E5ECF6",
                      "caxis": {
                        "gridcolor": "white",
                        "linecolor": "white",
                        "ticks": ""
                      }
                    },
                    "title": {
                      "x": 0.05
                    },
                    "xaxis": {
                      "automargin": true,
                      "gridcolor": "white",
                      "linecolor": "white",
                      "ticks": "",
                      "title": {
                        "standoff": 15
                      },
                      "zerolinecolor": "white",
                      "zerolinewidth": 2
                    },
                    "yaxis": {
                      "automargin": true,
                      "gridcolor": "white",
                      "linecolor": "white",
                      "ticks": "",
                      "title": {
                        "standoff": 15
                      },
                      "zerolinecolor": "white",
                      "zerolinewidth": 2
                    }
                  }
                },
                "xaxis": {
                  "anchor": "y",
                  "domain": [
                    0,
                    1
                  ],
                  "title": {
                    "text": "index"
                  }
                },
                "yaxis": {
                  "anchor": "x",
                  "domain": [
                    0,
                    1
                  ],
                  "title": {
                    "text": "value"
                  }
                }
              }
            }
          },
          "metadata": {},
          "output_type": "display_data"
        }
      ],
      "source": [
        "accidente_hora = df.groupby(df_est[(df_est.FECHA.dt.year == 2015) & (df_est.FECHA.dt.month==1)].FECHA.dt.day).count().FECHA\n",
        "accidente_hora.plot(kind='bar')"
      ]
    },
    {
      "cell_type": "code",
      "execution_count": 33,
      "metadata": {},
      "outputs": [
        {
          "data": {
            "application/vnd.plotly.v1+json": {
              "config": {
                "plotlyServerURL": "https://plot.ly"
              },
              "data": [
                {
                  "alignmentgroup": "True",
                  "hovertemplate": "variable=FECHA<br>index=%{x}<br>value=%{y}<extra></extra>",
                  "legendgroup": "FECHA",
                  "marker": {
                    "color": "#636efa",
                    "pattern": {
                      "shape": ""
                    }
                  },
                  "name": "FECHA",
                  "offsetgroup": "FECHA",
                  "orientation": "v",
                  "showlegend": true,
                  "textposition": "auto",
                  "type": "bar",
                  "x": [
                    1,
                    2,
                    3,
                    4,
                    5,
                    6,
                    7,
                    8,
                    9,
                    10,
                    11,
                    12,
                    13,
                    14,
                    15,
                    16,
                    17,
                    18,
                    19,
                    20,
                    21,
                    22,
                    23,
                    24,
                    25,
                    26,
                    27,
                    28,
                    29,
                    30,
                    31
                  ],
                  "xaxis": "x",
                  "y": [
                    739,
                    720,
                    770,
                    719,
                    816,
                    902,
                    866,
                    562,
                    838,
                    697,
                    873,
                    804,
                    735,
                    799,
                    618,
                    808,
                    709,
                    856,
                    842,
                    770,
                    830,
                    759,
                    763,
                    694,
                    353,
                    637,
                    597,
                    579,
                    500,
                    538,
                    428
                  ],
                  "yaxis": "y"
                }
              ],
              "layout": {
                "barmode": "relative",
                "legend": {
                  "title": {
                    "text": "variable"
                  },
                  "tracegroupgap": 0
                },
                "margin": {
                  "t": 60
                },
                "template": {
                  "data": {
                    "bar": [
                      {
                        "error_x": {
                          "color": "#2a3f5f"
                        },
                        "error_y": {
                          "color": "#2a3f5f"
                        },
                        "marker": {
                          "line": {
                            "color": "#E5ECF6",
                            "width": 0.5
                          },
                          "pattern": {
                            "fillmode": "overlay",
                            "size": 10,
                            "solidity": 0.2
                          }
                        },
                        "type": "bar"
                      }
                    ],
                    "barpolar": [
                      {
                        "marker": {
                          "line": {
                            "color": "#E5ECF6",
                            "width": 0.5
                          },
                          "pattern": {
                            "fillmode": "overlay",
                            "size": 10,
                            "solidity": 0.2
                          }
                        },
                        "type": "barpolar"
                      }
                    ],
                    "carpet": [
                      {
                        "aaxis": {
                          "endlinecolor": "#2a3f5f",
                          "gridcolor": "white",
                          "linecolor": "white",
                          "minorgridcolor": "white",
                          "startlinecolor": "#2a3f5f"
                        },
                        "baxis": {
                          "endlinecolor": "#2a3f5f",
                          "gridcolor": "white",
                          "linecolor": "white",
                          "minorgridcolor": "white",
                          "startlinecolor": "#2a3f5f"
                        },
                        "type": "carpet"
                      }
                    ],
                    "choropleth": [
                      {
                        "colorbar": {
                          "outlinewidth": 0,
                          "ticks": ""
                        },
                        "type": "choropleth"
                      }
                    ],
                    "contour": [
                      {
                        "colorbar": {
                          "outlinewidth": 0,
                          "ticks": ""
                        },
                        "colorscale": [
                          [
                            0,
                            "#0d0887"
                          ],
                          [
                            0.1111111111111111,
                            "#46039f"
                          ],
                          [
                            0.2222222222222222,
                            "#7201a8"
                          ],
                          [
                            0.3333333333333333,
                            "#9c179e"
                          ],
                          [
                            0.4444444444444444,
                            "#bd3786"
                          ],
                          [
                            0.5555555555555556,
                            "#d8576b"
                          ],
                          [
                            0.6666666666666666,
                            "#ed7953"
                          ],
                          [
                            0.7777777777777778,
                            "#fb9f3a"
                          ],
                          [
                            0.8888888888888888,
                            "#fdca26"
                          ],
                          [
                            1,
                            "#f0f921"
                          ]
                        ],
                        "type": "contour"
                      }
                    ],
                    "contourcarpet": [
                      {
                        "colorbar": {
                          "outlinewidth": 0,
                          "ticks": ""
                        },
                        "type": "contourcarpet"
                      }
                    ],
                    "heatmap": [
                      {
                        "colorbar": {
                          "outlinewidth": 0,
                          "ticks": ""
                        },
                        "colorscale": [
                          [
                            0,
                            "#0d0887"
                          ],
                          [
                            0.1111111111111111,
                            "#46039f"
                          ],
                          [
                            0.2222222222222222,
                            "#7201a8"
                          ],
                          [
                            0.3333333333333333,
                            "#9c179e"
                          ],
                          [
                            0.4444444444444444,
                            "#bd3786"
                          ],
                          [
                            0.5555555555555556,
                            "#d8576b"
                          ],
                          [
                            0.6666666666666666,
                            "#ed7953"
                          ],
                          [
                            0.7777777777777778,
                            "#fb9f3a"
                          ],
                          [
                            0.8888888888888888,
                            "#fdca26"
                          ],
                          [
                            1,
                            "#f0f921"
                          ]
                        ],
                        "type": "heatmap"
                      }
                    ],
                    "heatmapgl": [
                      {
                        "colorbar": {
                          "outlinewidth": 0,
                          "ticks": ""
                        },
                        "colorscale": [
                          [
                            0,
                            "#0d0887"
                          ],
                          [
                            0.1111111111111111,
                            "#46039f"
                          ],
                          [
                            0.2222222222222222,
                            "#7201a8"
                          ],
                          [
                            0.3333333333333333,
                            "#9c179e"
                          ],
                          [
                            0.4444444444444444,
                            "#bd3786"
                          ],
                          [
                            0.5555555555555556,
                            "#d8576b"
                          ],
                          [
                            0.6666666666666666,
                            "#ed7953"
                          ],
                          [
                            0.7777777777777778,
                            "#fb9f3a"
                          ],
                          [
                            0.8888888888888888,
                            "#fdca26"
                          ],
                          [
                            1,
                            "#f0f921"
                          ]
                        ],
                        "type": "heatmapgl"
                      }
                    ],
                    "histogram": [
                      {
                        "marker": {
                          "pattern": {
                            "fillmode": "overlay",
                            "size": 10,
                            "solidity": 0.2
                          }
                        },
                        "type": "histogram"
                      }
                    ],
                    "histogram2d": [
                      {
                        "colorbar": {
                          "outlinewidth": 0,
                          "ticks": ""
                        },
                        "colorscale": [
                          [
                            0,
                            "#0d0887"
                          ],
                          [
                            0.1111111111111111,
                            "#46039f"
                          ],
                          [
                            0.2222222222222222,
                            "#7201a8"
                          ],
                          [
                            0.3333333333333333,
                            "#9c179e"
                          ],
                          [
                            0.4444444444444444,
                            "#bd3786"
                          ],
                          [
                            0.5555555555555556,
                            "#d8576b"
                          ],
                          [
                            0.6666666666666666,
                            "#ed7953"
                          ],
                          [
                            0.7777777777777778,
                            "#fb9f3a"
                          ],
                          [
                            0.8888888888888888,
                            "#fdca26"
                          ],
                          [
                            1,
                            "#f0f921"
                          ]
                        ],
                        "type": "histogram2d"
                      }
                    ],
                    "histogram2dcontour": [
                      {
                        "colorbar": {
                          "outlinewidth": 0,
                          "ticks": ""
                        },
                        "colorscale": [
                          [
                            0,
                            "#0d0887"
                          ],
                          [
                            0.1111111111111111,
                            "#46039f"
                          ],
                          [
                            0.2222222222222222,
                            "#7201a8"
                          ],
                          [
                            0.3333333333333333,
                            "#9c179e"
                          ],
                          [
                            0.4444444444444444,
                            "#bd3786"
                          ],
                          [
                            0.5555555555555556,
                            "#d8576b"
                          ],
                          [
                            0.6666666666666666,
                            "#ed7953"
                          ],
                          [
                            0.7777777777777778,
                            "#fb9f3a"
                          ],
                          [
                            0.8888888888888888,
                            "#fdca26"
                          ],
                          [
                            1,
                            "#f0f921"
                          ]
                        ],
                        "type": "histogram2dcontour"
                      }
                    ],
                    "mesh3d": [
                      {
                        "colorbar": {
                          "outlinewidth": 0,
                          "ticks": ""
                        },
                        "type": "mesh3d"
                      }
                    ],
                    "parcoords": [
                      {
                        "line": {
                          "colorbar": {
                            "outlinewidth": 0,
                            "ticks": ""
                          }
                        },
                        "type": "parcoords"
                      }
                    ],
                    "pie": [
                      {
                        "automargin": true,
                        "type": "pie"
                      }
                    ],
                    "scatter": [
                      {
                        "fillpattern": {
                          "fillmode": "overlay",
                          "size": 10,
                          "solidity": 0.2
                        },
                        "type": "scatter"
                      }
                    ],
                    "scatter3d": [
                      {
                        "line": {
                          "colorbar": {
                            "outlinewidth": 0,
                            "ticks": ""
                          }
                        },
                        "marker": {
                          "colorbar": {
                            "outlinewidth": 0,
                            "ticks": ""
                          }
                        },
                        "type": "scatter3d"
                      }
                    ],
                    "scattercarpet": [
                      {
                        "marker": {
                          "colorbar": {
                            "outlinewidth": 0,
                            "ticks": ""
                          }
                        },
                        "type": "scattercarpet"
                      }
                    ],
                    "scattergeo": [
                      {
                        "marker": {
                          "colorbar": {
                            "outlinewidth": 0,
                            "ticks": ""
                          }
                        },
                        "type": "scattergeo"
                      }
                    ],
                    "scattergl": [
                      {
                        "marker": {
                          "colorbar": {
                            "outlinewidth": 0,
                            "ticks": ""
                          }
                        },
                        "type": "scattergl"
                      }
                    ],
                    "scattermapbox": [
                      {
                        "marker": {
                          "colorbar": {
                            "outlinewidth": 0,
                            "ticks": ""
                          }
                        },
                        "type": "scattermapbox"
                      }
                    ],
                    "scatterpolar": [
                      {
                        "marker": {
                          "colorbar": {
                            "outlinewidth": 0,
                            "ticks": ""
                          }
                        },
                        "type": "scatterpolar"
                      }
                    ],
                    "scatterpolargl": [
                      {
                        "marker": {
                          "colorbar": {
                            "outlinewidth": 0,
                            "ticks": ""
                          }
                        },
                        "type": "scatterpolargl"
                      }
                    ],
                    "scatterternary": [
                      {
                        "marker": {
                          "colorbar": {
                            "outlinewidth": 0,
                            "ticks": ""
                          }
                        },
                        "type": "scatterternary"
                      }
                    ],
                    "surface": [
                      {
                        "colorbar": {
                          "outlinewidth": 0,
                          "ticks": ""
                        },
                        "colorscale": [
                          [
                            0,
                            "#0d0887"
                          ],
                          [
                            0.1111111111111111,
                            "#46039f"
                          ],
                          [
                            0.2222222222222222,
                            "#7201a8"
                          ],
                          [
                            0.3333333333333333,
                            "#9c179e"
                          ],
                          [
                            0.4444444444444444,
                            "#bd3786"
                          ],
                          [
                            0.5555555555555556,
                            "#d8576b"
                          ],
                          [
                            0.6666666666666666,
                            "#ed7953"
                          ],
                          [
                            0.7777777777777778,
                            "#fb9f3a"
                          ],
                          [
                            0.8888888888888888,
                            "#fdca26"
                          ],
                          [
                            1,
                            "#f0f921"
                          ]
                        ],
                        "type": "surface"
                      }
                    ],
                    "table": [
                      {
                        "cells": {
                          "fill": {
                            "color": "#EBF0F8"
                          },
                          "line": {
                            "color": "white"
                          }
                        },
                        "header": {
                          "fill": {
                            "color": "#C8D4E3"
                          },
                          "line": {
                            "color": "white"
                          }
                        },
                        "type": "table"
                      }
                    ]
                  },
                  "layout": {
                    "annotationdefaults": {
                      "arrowcolor": "#2a3f5f",
                      "arrowhead": 0,
                      "arrowwidth": 1
                    },
                    "autotypenumbers": "strict",
                    "coloraxis": {
                      "colorbar": {
                        "outlinewidth": 0,
                        "ticks": ""
                      }
                    },
                    "colorscale": {
                      "diverging": [
                        [
                          0,
                          "#8e0152"
                        ],
                        [
                          0.1,
                          "#c51b7d"
                        ],
                        [
                          0.2,
                          "#de77ae"
                        ],
                        [
                          0.3,
                          "#f1b6da"
                        ],
                        [
                          0.4,
                          "#fde0ef"
                        ],
                        [
                          0.5,
                          "#f7f7f7"
                        ],
                        [
                          0.6,
                          "#e6f5d0"
                        ],
                        [
                          0.7,
                          "#b8e186"
                        ],
                        [
                          0.8,
                          "#7fbc41"
                        ],
                        [
                          0.9,
                          "#4d9221"
                        ],
                        [
                          1,
                          "#276419"
                        ]
                      ],
                      "sequential": [
                        [
                          0,
                          "#0d0887"
                        ],
                        [
                          0.1111111111111111,
                          "#46039f"
                        ],
                        [
                          0.2222222222222222,
                          "#7201a8"
                        ],
                        [
                          0.3333333333333333,
                          "#9c179e"
                        ],
                        [
                          0.4444444444444444,
                          "#bd3786"
                        ],
                        [
                          0.5555555555555556,
                          "#d8576b"
                        ],
                        [
                          0.6666666666666666,
                          "#ed7953"
                        ],
                        [
                          0.7777777777777778,
                          "#fb9f3a"
                        ],
                        [
                          0.8888888888888888,
                          "#fdca26"
                        ],
                        [
                          1,
                          "#f0f921"
                        ]
                      ],
                      "sequentialminus": [
                        [
                          0,
                          "#0d0887"
                        ],
                        [
                          0.1111111111111111,
                          "#46039f"
                        ],
                        [
                          0.2222222222222222,
                          "#7201a8"
                        ],
                        [
                          0.3333333333333333,
                          "#9c179e"
                        ],
                        [
                          0.4444444444444444,
                          "#bd3786"
                        ],
                        [
                          0.5555555555555556,
                          "#d8576b"
                        ],
                        [
                          0.6666666666666666,
                          "#ed7953"
                        ],
                        [
                          0.7777777777777778,
                          "#fb9f3a"
                        ],
                        [
                          0.8888888888888888,
                          "#fdca26"
                        ],
                        [
                          1,
                          "#f0f921"
                        ]
                      ]
                    },
                    "colorway": [
                      "#636efa",
                      "#EF553B",
                      "#00cc96",
                      "#ab63fa",
                      "#FFA15A",
                      "#19d3f3",
                      "#FF6692",
                      "#B6E880",
                      "#FF97FF",
                      "#FECB52"
                    ],
                    "font": {
                      "color": "#2a3f5f"
                    },
                    "geo": {
                      "bgcolor": "white",
                      "lakecolor": "white",
                      "landcolor": "#E5ECF6",
                      "showlakes": true,
                      "showland": true,
                      "subunitcolor": "white"
                    },
                    "hoverlabel": {
                      "align": "left"
                    },
                    "hovermode": "closest",
                    "mapbox": {
                      "style": "light"
                    },
                    "paper_bgcolor": "white",
                    "plot_bgcolor": "#E5ECF6",
                    "polar": {
                      "angularaxis": {
                        "gridcolor": "white",
                        "linecolor": "white",
                        "ticks": ""
                      },
                      "bgcolor": "#E5ECF6",
                      "radialaxis": {
                        "gridcolor": "white",
                        "linecolor": "white",
                        "ticks": ""
                      }
                    },
                    "scene": {
                      "xaxis": {
                        "backgroundcolor": "#E5ECF6",
                        "gridcolor": "white",
                        "gridwidth": 2,
                        "linecolor": "white",
                        "showbackground": true,
                        "ticks": "",
                        "zerolinecolor": "white"
                      },
                      "yaxis": {
                        "backgroundcolor": "#E5ECF6",
                        "gridcolor": "white",
                        "gridwidth": 2,
                        "linecolor": "white",
                        "showbackground": true,
                        "ticks": "",
                        "zerolinecolor": "white"
                      },
                      "zaxis": {
                        "backgroundcolor": "#E5ECF6",
                        "gridcolor": "white",
                        "gridwidth": 2,
                        "linecolor": "white",
                        "showbackground": true,
                        "ticks": "",
                        "zerolinecolor": "white"
                      }
                    },
                    "shapedefaults": {
                      "line": {
                        "color": "#2a3f5f"
                      }
                    },
                    "ternary": {
                      "aaxis": {
                        "gridcolor": "white",
                        "linecolor": "white",
                        "ticks": ""
                      },
                      "baxis": {
                        "gridcolor": "white",
                        "linecolor": "white",
                        "ticks": ""
                      },
                      "bgcolor": "#E5ECF6",
                      "caxis": {
                        "gridcolor": "white",
                        "linecolor": "white",
                        "ticks": ""
                      }
                    },
                    "title": {
                      "x": 0.05
                    },
                    "xaxis": {
                      "automargin": true,
                      "gridcolor": "white",
                      "linecolor": "white",
                      "ticks": "",
                      "title": {
                        "standoff": 15
                      },
                      "zerolinecolor": "white",
                      "zerolinewidth": 2
                    },
                    "yaxis": {
                      "automargin": true,
                      "gridcolor": "white",
                      "linecolor": "white",
                      "ticks": "",
                      "title": {
                        "standoff": 15
                      },
                      "zerolinecolor": "white",
                      "zerolinewidth": 2
                    }
                  }
                },
                "xaxis": {
                  "anchor": "y",
                  "domain": [
                    0,
                    1
                  ],
                  "title": {
                    "text": "index"
                  }
                },
                "yaxis": {
                  "anchor": "x",
                  "domain": [
                    0,
                    1
                  ],
                  "title": {
                    "text": "value"
                  }
                }
              }
            }
          },
          "metadata": {},
          "output_type": "display_data"
        }
      ],
      "source": [
        "accidente_hora = df.groupby(df_est[(df_est.FECHA.dt.year) & (df_est.FECHA.dt.month==12)].FECHA.dt.day).count().FECHA\n",
        "accidente_hora.plot(kind='bar')"
      ]
    },
    {
      "cell_type": "markdown",
      "metadata": {},
      "source": [
        "Como esta cantidad se mantiene lo suficientemente estable, el siguiente paso es obtener un promedio de accidentes diarios por mes, esto se logra con la siguiente funcion:"
      ]
    },
    {
      "cell_type": "code",
      "execution_count": 34,
      "metadata": {},
      "outputs": [],
      "source": [
        "def prom_año(df, año):\n",
        "    \"\"\"\n",
        "    Retorna el promedio de siniestros diarios para cada mes del año indicado,\n",
        "    tomando la infomacion del dataframe df.\n",
        "    Parametros:\n",
        "        df: Dataframe con la informacion.\n",
        "        año: Año al cual obtener los promedios para cada mes.\n",
        "    Retorna:\n",
        "        meses: Lista de los meses por su representacion numerica (ej. 2 para febrero).\n",
        "        prom: Lista de los promedios para cada mes en orden cronologico.\n",
        "    \"\"\"\n",
        "    prom = []\n",
        "    df_ = df[df.FECHA.dt.year==año]\n",
        "    meses = df_.FECHA.dt.month.value_counts().sort_index().index.values\n",
        "    for i in meses:\n",
        "        df_mes = df_[df_.FECHA.dt.month==i].FECHA\n",
        "        prom.append(df_mes.groupby(df_mes.dt.day).count().mean())\n",
        "    return meses, prom"
      ]
    },
    {
      "cell_type": "markdown",
      "metadata": {},
      "source": [
        "Con esto generamos un plot para el promedio de siniestros diarios por mes para cada uno de los años en el dataframe."
      ]
    },
    {
      "cell_type": "code",
      "execution_count": 35,
      "metadata": {},
      "outputs": [
        {
          "data": {
            "image/png": "[encoded data removed]",
            "text/plain": [
              "<Figure size 640x480 with 6 Axes>"
            ]
          },
          "metadata": {},
          "output_type": "display_data"
        }
      ],
      "source": [
        "fig, axes = plt.subplots(nrows=3, ncols=2)\n",
        "años = df_est.FECHA.dt.year.value_counts().sort_index().index.values\n",
        "for i in range(3):\n",
        "    for j in range(2):\n",
        "        meses, prom = prom_año(df_est, años[i+j])\n",
        "        axes[i,j].plot(meses, prom)\n",
        "        axes[i,j].set_title(str(años[i+j]))\n",
        "axes[2,0].set_xlabel('Mes')\n",
        "axes[2,1].set_xlabel('Mes')\n",
        "axes[1,0].set_ylabel('Siniestros')\n",
        "plt.tight_layout()"
      ]
    },
    {
      "cell_type": "markdown",
      "metadata": {},
      "source": [
        "Notamos un comportamiento recurrente en esta tasa, este comportamiento lo ajustaremos a una exponencial inversa, pero antes se debe hacer un promedio por años para cada mes, resultando con lo siguiente:"
      ]
    },
    {
      "cell_type": "code",
      "execution_count": 36,
      "metadata": {},
      "outputs": [
        {
          "data": {
            "text/plain": [
              "Text(0, 0.5, 'Promedio siniestros diarios')"
            ]
          },
          "execution_count": 36,
          "metadata": {},
          "output_type": "execute_result"
        },
        {
          "data": {
            "image/png": "[encoded data removed]",
            "text/plain": [
              "<Figure size 640x480 with 1 Axes>"
            ]
          },
          "metadata": {},
          "output_type": "display_data"
        }
      ],
      "source": [
        "total_meses = pd.DataFrame(np.array([prom_año(df_est, año)[1] for año in años]).T,index=[i for i in range(1,13)], columns=años)\n",
        "prom_año_total = total_meses.T.mean()\n",
        "sns.lineplot(prom_año_total)\n",
        "plt.xlabel('Mes')\n",
        "plt.ylabel('Promedio siniestros diarios')"
      ]
    },
    {
      "cell_type": "markdown",
      "metadata": {},
      "source": [
        "Ahora si se hace el ajuste deseado, iniciamos definiendo la funcion a la que se le va a hacer el ajuste:"
      ]
    },
    {
      "cell_type": "code",
      "execution_count": 37,
      "metadata": {},
      "outputs": [],
      "source": [
        "def exp_inv(x, a, b):\n",
        "    \"\"\"\n",
        "    Retorna los valores para la funcion f(x)= a - b*exp(-x), de acuerdo a los parametros a y b dados\n",
        "    en los valores del x dado.\n",
        "        Parametros:\n",
        "        x: Valores sobre el cual evaluar la funcion.\n",
        "        a: Parametro de la funcion.\n",
        "        b: Coeficiente de la funcion.\n",
        "    Retorna:\n",
        "        resultado: Resultado de evaluar la funcion para los valores de x y los parametros dados.\n",
        "    \"\"\"\n",
        "    resultado = a - b*np.exp(-x)\n",
        "    return resultado"
      ]
    },
    {
      "cell_type": "markdown",
      "metadata": {},
      "source": [
        "Y procedemos a realizar el ajuste por medio de la funcion `curve_fit` que incluye scipy:"
      ]
    },
    {
      "cell_type": "code",
      "execution_count": 38,
      "metadata": {},
      "outputs": [
        {
          "name": "stdout",
          "output_type": "stream",
          "text": [
            "f(x) = 233.0360979962141 - 79.33673202569406*exp(x)\n"
          ]
        },
        {
          "data": {
            "text/plain": [
              "Text(0, 0.5, 'Promedio de siniestros por dia')"
            ]
          },
          "execution_count": 38,
          "metadata": {},
          "output_type": "execute_result"
        },
        {
          "data": {
            "image/png": "[encoded data removed]",
            "text/plain": [
              "<Figure size 640x480 with 1 Axes>"
            ]
          },
          "metadata": {},
          "output_type": "display_data"
        }
      ],
      "source": [
        "x = np.array(prom_año_total.index.values)\n",
        "(a, b), pcov = curve_fit(exp_inv, x, prom_año_total.values)\n",
        "print(f\"f(x) = {a} - {b}*exp(x)\")\n",
        "y = exp_inv(x, a, b)\n",
        "plt.plot(prom_año_total, label='Datos')\n",
        "plt.plot(x, y, label='Ajuste')\n",
        "plt.xlabel('Mes')\n",
        "plt.ylabel('Promedio de siniestros por dia')"
      ]
    },
    {
      "cell_type": "markdown",
      "metadata": {},
      "source": [
        "Este ajuste lo podemos aplicar para cada mes del año, y con esto obtenemos las tasas de siniestros diarios para cada uno de los meses, ademas esta tasa es el parametro de la distribucion de Poisson que determinara las probabilidades de ocurrencia de siniestros."
      ]
    },
    {
      "cell_type": "code",
      "execution_count": 39,
      "metadata": {},
      "outputs": [
        {
          "data": {
            "text/plain": [
              "<matplotlib.legend.Legend at 0x23883688510>"
            ]
          },
          "execution_count": 39,
          "metadata": {},
          "output_type": "execute_result"
        },
        {
          "data": {
            "image/png": "[encoded data removed]",
            "text/plain": [
              "<Figure size 640x480 with 1 Axes>"
            ]
          },
          "metadata": {},
          "output_type": "display_data"
        }
      ],
      "source": [
        "mes = ['Enero', 'Febrero', 'Marzo', 'Abril', 'Mayo', 'Junio', 'Julio', 'Agosto', 'Septiembre', 'Octubre', 'Noviembre', 'Diciembre']\n",
        "k = lambda x: exp_inv(x, a, b)\n",
        "for i in range(12):\n",
        "    l = k(i+1)\n",
        "    x = np.arange(160, 260, 1)\n",
        "    y = poisson.pmf(x, mu = l)\n",
        "    plt.scatter(x, y, label=mes[i])\n",
        "plt.legend()"
      ]
    },
    {
      "cell_type": "code",
      "execution_count": 40,
      "metadata": {},
      "outputs": [
        {
          "data": {
            "text/plain": [
              "<matplotlib.legend.Legend at 0x238839ed990>"
            ]
          },
          "execution_count": 40,
          "metadata": {},
          "output_type": "execute_result"
        },
        {
          "data": {
            "image/png": "[encoded data removed]",
            "text/plain": [
              "<Figure size 640x480 with 1 Axes>"
            ]
          },
          "metadata": {},
          "output_type": "display_data"
        }
      ],
      "source": [
        "for i in range(12):\n",
        "    l = k(i+1)\n",
        "    x = np.arange(160, 270, 1)\n",
        "    y = poisson.cdf(x, mu = l)\n",
        "    plt.scatter(x, y, label=mes[i])\n",
        "plt.legend()"
      ]
    },
    {
      "cell_type": "markdown",
      "metadata": {},
      "source": [
        "#### Test de chi-cuadrado y correlacion tetracorica"
      ]
    },
    {
      "cell_type": "markdown",
      "metadata": {},
      "source": [
        "Por otro lado, todas las variables presentes en el dataframe consisten de valores categoricos, es por esto que es ideal considerar tests de $\\chi^2$ en matrices de contingencia y correlaciones de tetracoricas para dichas variables. Como se consideran dos variables categoricas, este tipo de test se hace bajo la siguiente hipotesis nula y alterna:\n",
        "- $H_0$: Las variables son independientes entre si.\n",
        "- $H_1$: Las variables son dependientes entre si.\n",
        "\n",
        "Ademas, la correlacion tetracorica, usualmente denominada $r_{tet}$, utilizada para medir la tasa de relacion para datos binarios, nos indica que tan asociadas estan las propociones para dos variables. Para dos variables **A** y **B**, descritas por la matriz de contingencia:\n",
        "\n",
        "\n",
        "|  | B | |\n",
        "| --- | --- | ---  |\n",
        "| A | a | b |\n",
        "|  | c | d |\n",
        "\n",
        "La correlacion esta dada por\n",
        "\n",
        "$r_{tet} = \\cos\\left({\\frac{\\pi}{1+ \\sqrt{\\frac{bc}{ad}}}}\\right)$."
      ]
    },
    {
      "cell_type": "markdown",
      "metadata": {},
      "source": [
        " A partir de esto definimos las siguientes funciones:"
      ]
    },
    {
      "cell_type": "code",
      "execution_count": 41,
      "metadata": {},
      "outputs": [],
      "source": [
        "def tetrachoric_corr(crosstab):\n",
        "    \"\"\"\n",
        "    Calcula la correlacion tetracorica para una matriz de contingencia dada\n",
        "    Parametros:\n",
        "        crosstab: Una matriz de contingencia como dataframe.\n",
        "    Retorna:\n",
        "        Un valor flotante con el valor de la correlacion en la matriz.\n",
        "    \"\"\"\n",
        "    [A, B], [C, D] = crosstab.values\n",
        "    coef = 1 + (B*C / (A*D))\n",
        "    return np.cos(np.pi/coef)\n",
        "\n",
        "def chi_test(crosstab):\n",
        "    \"\"\"\n",
        "    Evalua un test de chi cuadrado con hipotesis nula de independencia entre las variables,\n",
        "    para la matriz de contigencia dada, y retorna el chi cuadarado, el p-value, y las propociones\n",
        "    de las variables dadas.\n",
        "    Parametros:\n",
        "        crosstab: Una matriz de contingencia 2x2 como dataframe.\n",
        "    Retorna:\n",
        "        chi2: Chi cuadrado resultante del test.\n",
        "        p_value: P-value resultante del test.\n",
        "        prop_1: Proporcion entre la segunda y la primera fila la primera columna.\n",
        "        prop_2: Proporcion entre la segunda y la primera fila la segunda columna.\n",
        "    \"\"\"\n",
        "    chi2, p_value, gdl, expected = stats.chi2_contingency(crosstab)\n",
        "    prop_1, prop_2 = crosstab.iloc[1,:]/crosstab.iloc[0,:]\n",
        "    return chi2, p_value, prop_1, prop_2\n",
        "\n",
        "def Chi_test(df, variable_1, variable_2, alpha=0.05):\n",
        "    \"\"\"\n",
        "    Evalua un test de chi cuadrado con hipotesis nula de independencia entre las variables,\n",
        "    para la matriz de contigencia nx2 dada, y retorna una cadena de texto indicando el resultado\n",
        "    del test y las proporciones de las variables.\n",
        "    Parametros:\n",
        "        df: Dataframe con los datos.\n",
        "        variable_1: Variable para introducir en la matriz de contingencia.\n",
        "        variable_2: Variable para introducir en la matriz de contingencia\n",
        "        alpha: Significancia del test.\n",
        "    Retorna:\n",
        "        resultado: Cadena de texto con toda la informacion de los tests.\n",
        "    \"\"\"\n",
        "    nl = \"\\n\"\n",
        "    crosstab = pd.crosstab(df[variable_1], df[variable_2], margins=False)\n",
        "    chi2, p_value, prop_1, prop_2 = chi_test(crosstab)\n",
        "    if abs(p_value)>alpha:\n",
        "        return f\"Existen evidencia estadistica para no rechazar la hipotesis nula (p-value = {p_value}, chi2 = {chi2}) de independencia entre las variables {variable_1} y {variable_2}.\"\n",
        "    elif abs(p_value)<=alpha and crosstab.shape[0]==int(2):\n",
        "        corr = tetrachoric_corr(crosstab)\n",
        "        if prop_1<prop_2:\n",
        "            return f\"Existe evidencia estadistica para rechazar la hipotesis nula (p-value = {p_value}, chi2 = {chi2}) de independecia.\\n Ademas, una mayor proporcion de la variable {variable_1} con valor {crosstab.iloc[1,:].name} lo tiene el valor {crosstab.columns[1]} de la variable {variable_2} con una correlacion de {corr}.\"\n",
        "        else:\n",
        "            return f\"Existe evidencia estadistica para rechazar la hipotesis nula (p-value = {p_value}, chi2 = {chi2}) de independecia.\\n Ademas, una mayor proporcion de la variable {variable_1} con valor {crosstab.iloc[1,:].name} lo tiene el valor {crosstab.columns[0]} de la variable {variable_2} con una correlacion de {corr}.\"\n",
        "    elif abs(p_value)<=alpha and crosstab.shape[0]!=2:\n",
        "        resultado = ''\n",
        "        alpha = alpha / sp.special.comb(crosstab.shape[0], 2)\n",
        "        dummies = pd.get_dummies(df[variable_1])\n",
        "        for series in dummies:\n",
        "            crosstab = pd.crosstab(dummies[series], df[variable_2], margins=False)\n",
        "            chi2, p_value, prop_1, prop_2 = chi_test(crosstab)\n",
        "            corr = tetrachoric_corr(crosstab)\n",
        "            if abs(p_value)>alpha:\n",
        "                resultado += f\"Existe evidencia estadistica para no rechazar la hipotesis nula (p-value = {p_value}, chi2 = {chi2}) del valor {crosstab.index.name} de la variable {variable_1}. {nl}\"\n",
        "            elif prop_1<prop_2:\n",
        "                resultado += f\"Existe evidencia estadistica para rechazar la hipotesis nula (p-value = {p_value}, chi2 = {chi2}) y encontramos que una mayor propocion del valor {crosstab.index.name} de la variable {variable_1} la tiene el valor {crosstab.columns[1]} de la variable {variable_2} con una correlacion de {corr}. {nl}\"\n",
        "            else:\n",
        "                resultado += f\"Existe evidencia estadistica para rechazar la hipotesis nula (p-value = {p_value}, chi2 = {chi2}) y encontramos que una mayor propocion del valor {crosstab.index.name} de la variable {variable_1} la tiene el valor {crosstab.columns[0]} de la variable {variable_2} con una correlacion de {corr}. {nl}\"\n",
        "        return resultado\n",
        "\n"
      ]
    },
    {
      "cell_type": "markdown",
      "metadata": {},
      "source": [
        "Las cuales son de gran utilidad ya que realizan dicho test y nos indican las propociones entre las variables.\n",
        "\n",
        "\n",
        "En este caso consideraremos unicamente los datos de **SEXO** y **SERVICIO** contra **GRAVEDAD**, sin tener en cuenta los valores sin informacion para sexo y servicio, y los valores diferentes de publico o privado para el servicio. Esto lo almacenamos en los siguientes dataframes:"
      ]
    },
    {
      "cell_type": "code",
      "execution_count": 42,
      "metadata": {},
      "outputs": [],
      "source": [
        "df_sexo = df_est[~(df_est.SEXO == 3)]\n",
        "df_servicio = df_est.loc[(df.SERVICIO == 2) | (df.SERVICIO == 3)]"
      ]
    },
    {
      "cell_type": "markdown",
      "metadata": {},
      "source": [
        "Estas elecciones son debido a que dichas variables descartadas, como se observa en las siguientes figuras, no son fuente de informacion o no aportan una cantidad significativa de datos"
      ]
    },
    {
      "cell_type": "code",
      "execution_count": 43,
      "metadata": {},
      "outputs": [
        {
          "data": {
            "image/png": "[encoded data removed]",
            "text/plain": [
              "<Figure size 640x480 with 4 Axes>"
            ]
          },
          "metadata": {},
          "output_type": "display_data"
        }
      ],
      "source": [
        "fig, axes = plt.subplots(nrows=1, ncols=2)\n",
        "sns.heatmap(ax=axes[0], data=pd.crosstab(df_est.GRAVEDAD, df_est.SEXO, margins=False), cmap='coolwarm')\n",
        "sns.heatmap(ax=axes[1], data =pd.crosstab(df_sexo.GRAVEDAD, df_sexo.SEXO, margins=False), cmap='coolwarm')\n",
        "fig.tight_layout()"
      ]
    },
    {
      "cell_type": "code",
      "execution_count": 44,
      "metadata": {},
      "outputs": [
        {
          "data": {
            "image/png": "[encoded data removed]",
            "text/plain": [
              "<Figure size 640x480 with 4 Axes>"
            ]
          },
          "metadata": {},
          "output_type": "display_data"
        }
      ],
      "source": [
        "fig, axes = plt.subplots(nrows=1, ncols=2)\n",
        "sns.heatmap(ax=axes[0], data=pd.crosstab(df_est.GRAVEDAD, df_sexo.SERVICIO, margins=False), cmap='coolwarm')\n",
        "sns.heatmap(ax=axes[1], data =pd.crosstab(df_servicio.GRAVEDAD, df_sexo.SERVICIO, margins=False), cmap='coolwarm')\n",
        "plt.tight_layout()"
      ]
    },
    {
      "cell_type": "markdown",
      "metadata": {},
      "source": [
        "Bajo estos nuevos dataframes procedemos a ejecutar los test para ambas variables **SEXO** y **SERVICIO** contra **GRAVEDAD**:"
      ]
    },
    {
      "cell_type": "code",
      "execution_count": 45,
      "metadata": {},
      "outputs": [
        {
          "name": "stdout",
          "output_type": "stream",
          "text": [
            "Existe evidencia estadistica para no rechazar la hipotesis nula (p-value = 0.17436090026696632, chi2 = 1.8450440700196005) del valor 1.0 de la variable GRAVEDAD. \n",
            "Existe evidencia estadistica para rechazar la hipotesis nula (p-value = 0.0, chi2 = 14783.32269231122) y encontramos que una mayor propocion del valor 2.0 de la variable GRAVEDAD la tiene el valor 2 de la variable SEXO con una correlacion de -0.6428735551965102. \n",
            "Existe evidencia estadistica para rechazar la hipotesis nula (p-value = 0.0, chi2 = 14640.530291719224) y encontramos que una mayor propocion del valor 3.0 de la variable GRAVEDAD la tiene el valor 1 de la variable SEXO con una correlacion de 0.6420714820123188. \n",
            "\n"
          ]
        }
      ],
      "source": [
        "print(Chi_test(df_sexo, 'GRAVEDAD', 'SEXO'))"
      ]
    },
    {
      "cell_type": "code",
      "execution_count": 46,
      "metadata": {},
      "outputs": [
        {
          "name": "stdout",
          "output_type": "stream",
          "text": [
            "Existe evidencia estadistica para no rechazar la hipotesis nula (p-value = 0.0445179611106451, chi2 = 4.036807563751175) del valor 1.0 de la variable GRAVEDAD. \n",
            "Existe evidencia estadistica para rechazar la hipotesis nula (p-value = 2.591093787609529e-186, chi2 = 847.4613134334024) y encontramos que una mayor propocion del valor 2.0 de la variable GRAVEDAD la tiene el valor 3.0 de la variable SERVICIO con una correlacion de -0.14736877320069522. \n",
            "Existe evidencia estadistica para rechazar la hipotesis nula (p-value = 5.936655314934605e-189, chi2 = 859.6044983323969) y encontramos que una mayor propocion del valor 3.0 de la variable GRAVEDAD la tiene el valor 2.0 de la variable SERVICIO con una correlacion de 0.14691609536669523. \n",
            "\n"
          ]
        }
      ],
      "source": [
        "print(Chi_test(df_servicio, 'GRAVEDAD', 'SERVICIO'))"
      ]
    },
    {
      "cell_type": "markdown",
      "metadata": {},
      "source": [
        "Con esto concluimos que, en proporción, los hombres presentan mayores accidentes en cuanto a la gravedad de tipo \"daño material\" y por el contrario las mujeres en proporción presentan mayor accidentalidad de tipo \"herido\". Es por esto que para la empresa resulta favorable dedicar mayor publicidad a seguros por daño material a un publico masculino y mayor publicidad a seguros por heridas a publico femenino. También podemos concluir que el servicio privado tiene mayor proporcion en accidentes con heridos en comparación con el servicio público, y el servicion publico presenta mayor proporcionalidad en accidentes con daño material. Por lo tanto, al igual que el sexo, la publicidad para vehiculo particular se debe enfocar mas a seguros por daño por heridas."
      ]
    },
    {
      "cell_type": "markdown",
      "metadata": {},
      "source": [
        "# Autores"
      ]
    },
    {
      "cell_type": "markdown",
      "metadata": {},
      "source": [
        "Este es un proyecto final realizado para el modulo 1 \"Análisis y visualización de datos con Python\" del diplomado modular \"Machine learning and data science\" ofrecido por la Universidad Nacional de Colombia.\n",
        "\n",
        "Autores: Diego M. Lopez; Juan A. Guzman."
      ]
    },
    {
      "cell_type": "markdown",
      "metadata": {},
      "source": [
        "El dataframe preprocesado es exportado usando la siguiente funcion:"
      ]
    },
    {
      "cell_type": "code",
      "execution_count": null,
      "metadata": {},
      "outputs": [],
      "source": [
        "def exportar_csv(df, nombre):\n",
        "    \"\"\"\n",
        "    Exporta el dataframe indicado como un archivo de tipo csv.\n",
        "    Parametros:\n",
        "        df: Dataframe a exportar como csv.\n",
        "        nombre: Cadena de texto con el nombre del archivo generado\n",
        "    Retorna:\n",
        "        El texto 'Procedimiento exitoso' si se ejecuto correctamiente.\n",
        "    \"\"\"\n",
        "    df.to_csv(nombre+'.csv')\n",
        "    return 'Procedimiento exitoso'\n",
        "\n",
        "exportar_csv(df, 'siniestros_viales')"
      ]
    }
  ],
  "metadata": {
    "colab": {
      "provenance": []
    },
    "kernelspec": {
      "display_name": "Python 3",
      "language": "python",
      "name": "python3"
    },
    "language_info": {
      "codemirror_mode": {
        "name": "ipython",
        "version": 3
      },
      "file_extension": ".py",
      "mimetype": "text/x-python",
      "name": "python",
      "nbconvert_exporter": "python",
      "pygments_lexer": "ipython3",
      "version": "3.11.5"
    },
    "orig_nbformat": 4
  },
  "nbformat": 4,
  "nbformat_minor": 0
}
